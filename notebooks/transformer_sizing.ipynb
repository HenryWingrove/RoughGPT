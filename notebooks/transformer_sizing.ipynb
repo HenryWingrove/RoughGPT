{
 "cells": [
  {
   "cell_type": "markdown",
   "metadata": {},
   "source": [
    "### Transformer Theoretical Sizing Model\n",
    "\n",
    "Note: this notebook is based on https://github.com/karpathy/nanoGPT/blob/master/transformer_sizing.ipynb\n",
    "\n",
    "This notebook stores a bunch of analysis about a Transformer, e.g. estimates the number of FLOPs, parameters, peak memory footprint, checkpoint size, etc."
   ]
  },
  {
   "cell_type": "code",
   "execution_count": 1,
   "metadata": {},
   "outputs": [
    {
     "name": "stdout",
     "output_type": "stream",
     "text": [
      "found 138 message files\n",
      "found 20 message files\n",
      "found 2 message files\n",
      "total number of messages in the training datasets: 91124274\n",
      "total number of tokens in the training data: 2186982576\n"
     ]
    }
   ],
   "source": [
    "import os\n",
    "import sys\n",
    "from glob import glob\n",
    "import numpy as np\n",
    "\n",
    "# set up paths\n",
    "(parent_folder_path, current_dir) = os.path.split(os.path.abspath(''))\n",
    "sys.path.append(parent_folder_path)\n",
    "# train_data_dir = parent_folder_path + '/dataset/proc/ITCH/train/'\n",
    "train_data_dir = parent_folder_path + '/dataset/proc/ITCH/multi/pre_train/'\n",
    "train_message_files = sorted(glob(str(train_data_dir) + '/*message*.npy'))\n",
    "assert len(train_message_files) > 0, f'no message files found in {train_data_dir}'\n",
    "val_data_dir = parent_folder_path + '/dataset/proc/ITCH/multi/pre_train/val/'\n",
    "val_message_files = sorted(glob(str(val_data_dir) + '/*message*.npy'))\n",
    "assert len(val_message_files) > 0, f'no message files found in {val_data_dir}'\n",
    "test_data_dir = parent_folder_path + '/dataset/proc/ITCH/multi/pre_train/test/'\n",
    "test_message_files = sorted(glob(str(test_data_dir) + '/*message*.npy'))\n",
    "assert len(test_message_files) > 0, f'no message files found in {test_data_dir}'\n",
    "print('found', len(train_message_files), 'message files')\n",
    "print('found', len(val_message_files), 'message files')\n",
    "print('found', len(test_message_files), 'message files')\n",
    "\n",
    "# load a list with the number of messages contained in the training datasets\n",
    "train_datasets_sizes = []\n",
    "for file in train_message_files:\n",
    "    train_datasets_sizes.append((np.load(file, mmap_mode='r')).shape[0])\n",
    "    \n",
    "# print(\"train datasets sizes: \", train_datasets_sizes)\n",
    "print(f'total number of messages in the training datasets: {sum(train_datasets_sizes)}')\n",
    "\n",
    "# calculate the total number of tokens in the training data\n",
    "encoded_tok_len = 24\n",
    "total_tokens = sum(train_datasets_sizes) * encoded_tok_len\n",
    "print(f'total number of tokens in the training data: {total_tokens}')"
   ]
  },
  {
   "cell_type": "code",
   "execution_count": 3,
   "metadata": {},
   "outputs": [],
   "source": [
    "from collections import OrderedDict"
   ]
  },
  {
   "cell_type": "code",
   "execution_count": 4,
   "metadata": {},
   "outputs": [],
   "source": [
    "# config_args = {\n",
    "#     'gpt2':         dict(n_layer=12, n_head=12, n_embd=768),  # 124M params\n",
    "#     'gpt2-medium':  dict(n_layer=24, n_head=16, n_embd=1024), # 350M params\n",
    "#     'gpt2-large':   dict(n_layer=36, n_head=20, n_embd=1280), # 774M params\n",
    "#     'gpt2-xl':      dict(n_layer=48, n_head=25, n_embd=1600), # 1558M params\n",
    "# }[model_type]\n",
    "\n",
    "block_size = 10367\n",
    "vocab_size = 12515\n",
    "n_layer = 12\n",
    "n_head = 12\n",
    "n_embd = 768\n",
    "bias = False\n",
    "assert not bias, \"this notebook assumes bias=False just for simplicity\""
   ]
  },
  {
   "cell_type": "code",
   "execution_count": 5,
   "metadata": {},
   "outputs": [
    {
     "name": "stdout",
     "output_type": "stream",
     "text": [
      "name                 params     ratio (%) \n",
      "emebedding/position     7961856     7.7656\n",
      "embedding/token         9611520     9.3746\n",
      "embedding              17573376    17.1402\n",
      "attention/ln                768     0.0007\n",
      "attention/kqv           1769472     1.7259\n",
      "attention/proj           589824     0.5753\n",
      "attention               2360064     2.3019\n",
      "mlp/ln                      768     0.0007\n",
      "mlp/ffw                 2359296     2.3011\n",
      "mlp/proj                2359296     2.3011\n",
      "mlp                     4719360     4.6030\n",
      "block                   7079424     6.9049\n",
      "transformer            84953088    82.8590\n",
      "ln_f                        768     0.0007\n",
      "dense                         0     0.0000\n",
      "total                 102527232   100.0000\n"
     ]
    }
   ],
   "source": [
    "def params():\n",
    "    \"\"\" estimates the number of parameters in the model\"\"\"\n",
    "    out = OrderedDict()\n",
    "\n",
    "    # token and position embeddings\n",
    "    out['emebedding/position'] = n_embd * block_size\n",
    "    out['embedding/token'] = n_embd * vocab_size\n",
    "    out['embedding'] = out['emebedding/position'] + out['embedding/token']\n",
    "\n",
    "    # attention blocks\n",
    "    out['attention/ln'] = n_embd # note, bias=False in our LN\n",
    "    out['attention/kqv'] = n_embd * 3*n_embd\n",
    "    out['attention/proj'] = n_embd**2\n",
    "    out['attention'] = out['attention/ln'] + out['attention/kqv'] + out['attention/proj']\n",
    "\n",
    "    # MLP blocks\n",
    "    ffw_size = 4*n_embd # feed forward size\n",
    "    out['mlp/ln'] = n_embd\n",
    "    out['mlp/ffw'] = n_embd * ffw_size\n",
    "    out['mlp/proj'] = ffw_size * n_embd\n",
    "    out['mlp'] = out['mlp/ln'] + out['mlp/ffw'] + out['mlp/proj']\n",
    "    \n",
    "    # the transformer and the rest of it\n",
    "    out['block'] = out['attention'] + out['mlp']\n",
    "    out['transformer'] = n_layer * out['block']\n",
    "    out['ln_f'] = n_embd # final layernorm\n",
    "    out['dense'] = 0 # 0 because of parameter sharing. This layer uses the weights from the embedding layer\n",
    "\n",
    "    # total\n",
    "    out['total'] = out['embedding'] + out['transformer'] + out['ln_f'] + out['dense']\n",
    "\n",
    "    return out\n",
    "\n",
    "# compare our param count to that reported by PyTorch\n",
    "p = params()\n",
    "params_total = p['total']\n",
    "# print(f\"we see: {params_total}, expected: {124337664}, match: {params_total == 124337664}\")\n",
    "# create a header\n",
    "print(f\"{'name':20s} {'params':10s} {'ratio (%)':10s}\")\n",
    "for k,v in p.items():\n",
    "    print(f\"{k:20s} {v:10d} {v/params_total*100:10.4f}\")\n",
    "    "
   ]
  },
  {
   "cell_type": "code",
   "execution_count": 6,
   "metadata": {},
   "outputs": [
    {
     "name": "stdout",
     "output_type": "stream",
     "text": [
      "est checkpoint size: 1.23 GB\n"
     ]
    }
   ],
   "source": [
    "# we can now calculate the size of each checkpoint\n",
    "# params are stored in fp32, and the AdamW optimizer has 2 additional buffers per param for statistics\n",
    "params_bytes = params_total*4\n",
    "params_and_buffers_bytes = params_bytes + 2*params_bytes\n",
    "print(f\"est checkpoint size: {params_and_buffers_bytes/1e9:.2f} GB\")\n",
    "# measured_bytes = 1542470366 # from wc -c ckpt.pt\n",
    "# print(f\"measured with wc -c ckpt.pt: {measured_bytes}\")\n",
    "# print(f\"fluff ratio: {measured_bytes/params_and_buffers_bytes*100:.2f}%\")"
   ]
  },
  {
   "cell_type": "markdown",
   "metadata": {},
   "source": [
    "We can also estimate the ratio of our GPU memory that will be taken up just by the weights and the buffers inside the AdamW optimizer"
   ]
  },
  {
   "cell_type": "code",
   "execution_count": 7,
   "metadata": {},
   "outputs": [
    {
     "name": "stdout",
     "output_type": "stream",
     "text": [
      "memory ratio taken up just for parameters: 5.13%\n"
     ]
    }
   ],
   "source": [
    "# gpu_memory = 40e9 # 40 GB A100 GPU, roughly\n",
    "gpu_memory = 24e9 # 24 GB 4090 GPU, roughly\n",
    "print(f\"memory ratio taken up just for parameters: {params_and_buffers_bytes / gpu_memory * 100:.2f}%\")"
   ]
  },
  {
   "cell_type": "markdown",
   "metadata": {},
   "source": [
    "i.e. not that much of the memory for this tiny model, most of the memory is activations (forward and backward). This of course changes dramatically for larger and larger models."
   ]
  },
  {
   "cell_type": "markdown",
   "metadata": {},
   "source": [
    "Let's estimate FLOPs for a single forward pass."
   ]
  },
  {
   "cell_type": "code",
   "execution_count": 8,
   "metadata": {},
   "outputs": [
    {
     "name": "stdout",
     "output_type": "stream",
     "text": [
      "name                 flops          ratio (%) \n",
      "attention/kqv           36688232448     0.6195\n",
      "attention/scores       165081122304     2.7875\n",
      "attention/reduce       165081122304     2.7875\n",
      "attention/proj          12229410816     0.2065\n",
      "attention              379079887872     6.4009\n",
      "mlp/ffw1                48917643264     0.8260\n",
      "mlp/ffw2                48917643264     0.8260\n",
      "mlp                     97835286528     1.6520\n",
      "block                  476915174400     8.0529\n",
      "transformer           5722982092800    96.6350\n",
      "dense                  199285255680     3.3650\n",
      "forward_total         5922267348480   100.0000\n",
      "backward_total       11844534696960   200.0000\n",
      "total                17766802045440   300.0000\n"
     ]
    }
   ],
   "source": [
    "def flops():\n",
    "    # we only count Weight FLOPs, all other layers (LayerNorm, Softmax, etc) are effectively irrelevant\n",
    "    # we count actual FLOPs, not MACs. Hence 2* all over the place\n",
    "    # basically for any matrix multiply A (BxC) @ B (CxD) -> (BxD) flops are 2*B*C*D\n",
    "\n",
    "    out = OrderedDict()\n",
    "    head_size = n_embd // n_head\n",
    "\n",
    "    # attention blocks\n",
    "    # 1) the projection to key, query, values\n",
    "    out['attention/kqv'] = 2 * block_size * (n_embd * 3*n_embd)\n",
    "    # 2) calculating the attention scores\n",
    "    out['attention/scores'] = 2 * block_size * block_size * n_embd\n",
    "    # 3) the reduction of the values (B, nh, T, T) x (B, nh, T, hs) -> (B, nh, T, hs)\n",
    "    out['attention/reduce'] = 2 * n_head * (block_size * block_size * head_size)\n",
    "    # 4) the final linear projection\n",
    "    out['attention/proj'] = 2 * block_size * (n_embd * n_embd)\n",
    "    out['attention'] = sum(out['attention/'+k] for k in ['kqv', 'scores', 'reduce', 'proj'])\n",
    "\n",
    "    # MLP blocks\n",
    "    ffw_size = 4*n_embd # feed forward size\n",
    "    out['mlp/ffw1'] = 2 * block_size * (n_embd * ffw_size)\n",
    "    out['mlp/ffw2'] = 2 * block_size * (ffw_size * n_embd)\n",
    "    out['mlp'] = out['mlp/ffw1'] + out['mlp/ffw2']\n",
    "\n",
    "    # the transformer and the rest of it\n",
    "    out['block'] = out['attention'] + out['mlp']\n",
    "    out['transformer'] = n_layer * out['block']\n",
    "    out['dense'] = 2 * block_size * (n_embd * vocab_size)\n",
    "\n",
    "    # forward,backward,total\n",
    "    out['forward_total'] = out['transformer'] + out['dense']\n",
    "    out['backward_total'] = 2 * out['forward_total'] # use common estimate of bwd = 2*fwd\n",
    "    out['total'] = out['forward_total'] + out['backward_total']\n",
    "\n",
    "    return out\n",
    "    \n",
    "# compare our param count to that reported by PyTorch\n",
    "f = flops()\n",
    "flops_total = f['forward_total']\n",
    "print(f\"{'name':20s} {'flops':14s} {'ratio (%)':10s}\")\n",
    "for k,v in f.items():\n",
    "    print(f\"{k:20s} {v:14d} {v/flops_total*100:10.4f}\")\n",
    "    "
   ]
  },
  {
   "cell_type": "code",
   "execution_count": 9,
   "metadata": {},
   "outputs": [
    {
     "name": "stdout",
     "output_type": "stream",
     "text": [
      "palm_flops: 17767996323840, flops: 17766802045440, ratio: 1.0001\n"
     ]
    }
   ],
   "source": [
    "# now here is an estimate copy pasted from the PaLM paper\n",
    "# this formula is often used to calculate MFU (model flops utilization)\n",
    "def palm_flops():\n",
    "    \"\"\"estimate of the model flops following PaLM paper formula\"\"\"\n",
    "    # non-embedding model parameters. note that we do not subtract the\n",
    "    # embedding/token params because those are tied and get used in the last layer.\n",
    "    N = params()['total'] - params()['emebedding/position']\n",
    "    L, H, Q, T = n_layer, n_head, n_embd//n_head, block_size\n",
    "    mf_per_token = 6*N + 12*L*H*Q*T\n",
    "    mf = mf_per_token * block_size\n",
    "    return mf\n",
    "\n",
    "print(f\"palm_flops: {palm_flops():d}, flops: {flops()['total']:d}, ratio: {palm_flops()/flops()['total']:.4f}\")"
   ]
  },
  {
   "cell_type": "markdown",
   "metadata": {},
   "source": [
    "Ok they are quite similar, giving some confidence that my math in flops() function was ~ok. Now, A100 is cited at 312TFLOPS bfloat16 on tensor cores. So what is our model flops utilization (MFU)? I trained the model above with a batch_size of 20 and grad_accum of 5, which runs in about 755ms on a single A100 GPU. We get:"
   ]
  },
  {
   "cell_type": "code",
   "execution_count": 10,
   "metadata": {},
   "outputs": [
    {
     "name": "stdout",
     "output_type": "stream",
     "text": [
      "fraction of 4090 used: 82.83%\n"
     ]
    }
   ],
   "source": [
    "# here is what we currently roughly measure\n",
    "batch_size = 8 * 5 # 5 is grad_accum, so total batch size is 40\n",
    "# measured_time = 0.755 # **TODO: in seconds per iteration\n",
    "measured_time = 5.2 # **TODO: in seconds per iteration\n",
    "measured_throughput = batch_size / measured_time\n",
    "flops_achieved = f['total'] * measured_throughput\n",
    "\n",
    "# # A100 is cited to be 312 TFLOPS of bloat16 running on tensor cores\n",
    "# a100_flops_promised = 312e12\n",
    "\n",
    "# RTX 4090 is cited to be 165 TFLOPS (330 TFLOPS with sparsity feature) of bloat16 running on tensor cores\n",
    "rtx4090_flops_promised = 165e12\n",
    "\n",
    "# # the fraction of the A100 that we are using:\n",
    "# print(f\"fraction of A100 used: {flops_achieved / a100_flops_promised * 100:.2f}%\")\n",
    "\n",
    "# the fraction of the 4090 that we are using:\n",
    "print(f\"fraction of 4090 used: {flops_achieved / rtx4090_flops_promised * 100:.2f}%\")"
   ]
  },
  {
   "cell_type": "markdown",
   "metadata": {},
   "source": [
    "For reference, we'd prefer to be somewhere around 50%+, and not just for a single GPU but for an entire DDP run. So we still have some work to do, but at least we're within a factor of ~2X of what is achievable with this GPU."
   ]
  },
  {
   "cell_type": "code",
   "execution_count": 11,
   "metadata": {},
   "outputs": [
    {
     "name": "stdout",
     "output_type": "stream",
     "text": [
      "time needed to train the model: 0.12 days\n"
     ]
    }
   ],
   "source": [
    "# Finally let's check out the 6ND approximation as total cost of training in FLOPs\n",
    "model_size = params()['total'] # this is number of parameters, N\n",
    "# tokens_num = 300e9 # 300B tokens, this is dataset size in tokens, D\n",
    "# a100_flops = 312e12 # 312 TFLOPS\n",
    "# assumed_mfu = 0.3 # assume this model flops utilization (take the current 37% from above and add some DDP overhead)\n",
    "# flops_throughput = a100_flops * 8 * assumed_mfu # assume an 8XA100 node at 30% utilization\n",
    "# tokens_num = 0.211e9 # 0.2B tokens, this is dataset size in tokens, D\n",
    "tokens_num = total_tokens\n",
    "rtx4090_flops = 165e12 # 165 TFLOPS\n",
    "assumed_mfu = 0.78 # assume this model flops utilization (take the current 86% from above and add some overhead)\n",
    "flops_throughput = rtx4090_flops * 1 * assumed_mfu # assume an 1X4090 node at 78% utilization\n",
    "flops_needed = 6 * model_size * tokens_num # 6ND\n",
    "time_needed_s = flops_needed / flops_throughput # in seconds\n",
    "print(f\"time needed to train the model: {time_needed_s/3600/24:.2f} days\")"
   ]
  },
  {
   "cell_type": "markdown",
   "metadata": {},
   "source": [
    "This is not a bad estimate at all. I trained this model and it converged in roughly 4 days. Btw as a good reference for where 6ND comes from and some intuition around it I recommend [Dzmitry's post](https://medium.com/@dzmitrybahdanau/the-flops-calculus-of-language-model-training-3b19c1f025e4)."
   ]
  },
  {
   "cell_type": "markdown",
   "metadata": {},
   "source": [
    "Now, FLOPs are just one constraint, the other that we have to keep a close track of is the memory bandwidth. TODO estimate LOAD/STORE costs of our model later."
   ]
  },
  {
   "cell_type": "code",
   "execution_count": 12,
   "metadata": {},
   "outputs": [
    {
     "name": "stdout",
     "output_type": "stream",
     "text": [
      "tokens per iteration will be: 414,680\n",
      "iterations needed to train the model: 5,274\n"
     ]
    }
   ],
   "source": [
    "# let's calculate the tokens per iteration\n",
    "gradient_accumulation_steps = 5 * 8\n",
    "batch_size = 1\n",
    "tokens_per_iter = gradient_accumulation_steps * batch_size * block_size\n",
    "print(f\"tokens per iteration will be: {tokens_per_iter:,}\")\n",
    "\n",
    "# let's calculate the minimum number of iterations needed to train the model (and see all training data)\n",
    "iterations_needed = tokens_num / tokens_per_iter\n",
    "print(f\"iterations needed to train the model: {iterations_needed:,.0f}\")"
   ]
  },
  {
   "cell_type": "code",
   "execution_count": 14,
   "metadata": {},
   "outputs": [
    {
     "data": {
      "text/plain": [
       "3380.70779321961"
      ]
     },
     "execution_count": 14,
     "metadata": {},
     "output_type": "execute_result"
    }
   ],
   "source": [
    "# divide iterations needed by bpe compression factor\n",
    "iterations_needed / 1.56"
   ]
  },
  {
   "cell_type": "code",
   "execution_count": null,
   "metadata": {},
   "outputs": [],
   "source": []
  }
 ],
 "metadata": {
  "kernelspec": {
   "display_name": "MarketSimT_Fast",
   "language": "python",
   "name": "python3"
  },
  "language_info": {
   "codemirror_mode": {
    "name": "ipython",
    "version": 3
   },
   "file_extension": ".py",
   "mimetype": "text/x-python",
   "name": "python",
   "nbconvert_exporter": "python",
   "pygments_lexer": "ipython3",
   "version": "3.11.8"
  }
 },
 "nbformat": 4,
 "nbformat_minor": 2
}
