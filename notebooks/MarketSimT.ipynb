{
 "cells": [
  {
   "cell_type": "code",
   "execution_count": 1,
   "metadata": {},
   "outputs": [],
   "source": [
    "%load_ext autoreload\n",
    "%autoreload 2"
   ]
  },
  {
   "cell_type": "code",
   "execution_count": 2,
   "metadata": {},
   "outputs": [],
   "source": [
    "import os\n",
    "import sys\n",
    "\n",
    "(parent_folder_path, current_dir) = os.path.split(os.path.abspath(''))\n",
    "sys.path.append(parent_folder_path)\n",
    "sys.path.append(os.path.join(parent_folder_path, 'equities/data_processing'))\n",
    "\n",
    "os.environ[\"XLA_PYTHON_CLIENT_ALLOCATOR\"] = \"platform\"\n",
    "\n",
    "\n",
    "from pathlib import Path\n",
    "from typing import Optional\n",
    "import random\n",
    "import numpy as np\n",
    "import pandas as pd\n",
    "from tqdm import tqdm\n",
    "from glob import glob\n",
    "from decimal import Decimal\n",
    "\n",
    "from equities.data_processing.lobster import lobster_preproc\n",
    "from equities.data_processing import itch_preproc\n",
    "from equities.data_processing.lobster import lobster_encoding\n",
    "from equities.data_processing import itch_encoding\n",
    "from equities.data_processing.lobster import lobster_dataloader\n",
    "from equities.data_processing import itch_dataloader"
   ]
  },
  {
   "cell_type": "markdown",
   "metadata": {},
   "source": [
    "Let's setup a few paths! For convenience, we will redirect all the output artefacts to the MarketSimT/artefacts directory—this includes processed dataset, tokenizer files, experimental artefacts (configs, saved checkpoints, trained models, etc.), etc."
   ]
  },
  {
   "cell_type": "code",
   "execution_count": 3,
   "metadata": {},
   "outputs": [],
   "source": [
    "# BASE_DIR = os.path.abspath(\".\")\n",
    "# ARTEFACTS_DIR = os.path.join(BASE_DIR, \"artefacts\")\n",
    "# SCRIPTS_DIR = os.path.join(BASE_DIR, \"scripts\")\n",
    "# CONFIGS_DIR = os.path.join(BASE_DIR, \"scripts/configs\")"
   ]
  },
  {
   "cell_type": "code",
   "execution_count": 4,
   "metadata": {},
   "outputs": [],
   "source": [
    "# !process_dataset.py \\\n",
    "#     --data_dir={os.path.join(parent_folder_path, \"dataset/raw/ITCH/\")} \\\n",
    "#     --save_dir={os.path.join(parent_folder_path, \"dataset/ITCH/\")} \\\n",
    "#     --filter_above_lvl=20 \\\n",
    "#     --n_tick_range=500"
   ]
  },
  {
   "cell_type": "code",
   "execution_count": 3,
   "metadata": {},
   "outputs": [
    {
     "name": "stdout",
     "output_type": "stream",
     "text": [
      "found 1 LOBSTER message files\n",
      "found 1 LOBSTER book files\n",
      "\n",
      "found 8 ITCH message files\n",
      "found 8 ITCH book files\n"
     ]
    }
   ],
   "source": [
    "lobster_load_path = parent_folder_path + '/dataset/raw/LOBSTER/'\n",
    "itch_load_path = parent_folder_path + '/dataset/raw/ITCH/'\n",
    "\n",
    "# locate LOBSTER data\n",
    "lobster_message_files = sorted(glob(lobster_load_path + '*message*.csv'))\n",
    "lobster_book_files = sorted(glob(lobster_load_path + '*orderbook*.csv'))\n",
    "\n",
    "print('found', len(lobster_message_files), 'LOBSTER message files')\n",
    "print('found', len(lobster_book_files), 'LOBSTER book files')\n",
    "print()\n",
    "\n",
    "# locate ITCH data\n",
    "itch_message_files = sorted(glob(itch_load_path + '*message*.csv'))\n",
    "itch_book_files = sorted(glob(itch_load_path + '*book*.csv'))\n",
    "\n",
    "print('found', len(itch_message_files), 'ITCH message files')\n",
    "print('found', len(itch_book_files), 'ITCH book files')"
   ]
  },
  {
   "cell_type": "code",
   "execution_count": 6,
   "metadata": {},
   "outputs": [
    {
     "name": "stderr",
     "output_type": "stream",
     "text": [
      "0it [00:00, ?it/s]"
     ]
    },
    {
     "name": "stdout",
     "output_type": "stream",
     "text": [
      "/home/aaron/Documents/Github/MarketSimT/dataset/raw/LOBSTER/AAPL_2012-06-21_34200000_57600000_message_10.csv\n",
      "/home/aaron/Documents/Github/MarketSimT/dataset/raw/LOBSTER/AAPL_2012-06-21_34200000_57600000_orderbook_10.csv\n"
     ]
    },
    {
     "name": "stderr",
     "output_type": "stream",
     "text": [
      "1it [00:00,  1.55it/s]\n"
     ]
    },
    {
     "name": "stdout",
     "output_type": "stream",
     "text": [
      "LOBSTER messages shape: (400391, 6)\n",
      "LOBSTER book shape: (400391, 40)\n"
     ]
    },
    {
     "name": "stderr",
     "output_type": "stream",
     "text": [
      "0it [00:00, ?it/s]"
     ]
    },
    {
     "name": "stdout",
     "output_type": "stream",
     "text": [
      "/home/aaron/Documents/Github/MarketSimT/dataset/raw/ITCH/03272019.NASDAQ_ITCH50_AAPL_message.csv\n",
      "/home/aaron/Documents/Github/MarketSimT/dataset/raw/ITCH/03272019.NASDAQ_ITCH50_AAPL_book_20.csv\n"
     ]
    },
    {
     "name": "stderr",
     "output_type": "stream",
     "text": [
      "2it [00:04,  2.06s/it]"
     ]
    },
    {
     "name": "stdout",
     "output_type": "stream",
     "text": [
      "ITCH messages shape: (2010136, 12)\n",
      "ITCH book shape: (2010136, 81)\n"
     ]
    },
    {
     "name": "stderr",
     "output_type": "stream",
     "text": [
      "\n"
     ]
    }
   ],
   "source": [
    "# load LOBSTER data\n",
    "for m_f, b_f in tqdm(zip(lobster_message_files, lobster_book_files)):\n",
    "    print(m_f)\n",
    "    print(b_f)\n",
    "\n",
    "    lobster_messages = lobster_preproc.load_message_df(m_f)\n",
    "\n",
    "    lobster_book = pd.read_csv(\n",
    "        b_f,\n",
    "        index_col=False,\n",
    "        header=None\n",
    "    )\n",
    "    assert len(lobster_messages) == len(lobster_book)\n",
    "\n",
    "    print(\"LOBSTER messages shape:\", lobster_messages.shape)\n",
    "    print(\"LOBSTER book shape:\", lobster_book.shape)\n",
    "\n",
    "# load ITCH data\n",
    "for m_f, b_f in tqdm(zip(itch_message_files, itch_book_files)):\n",
    "    if '03272019' not in m_f:\n",
    "        continue\n",
    "\n",
    "    print(m_f)\n",
    "    print(b_f)\n",
    "\n",
    "    itch_messages = itch_preproc.load_message_df(m_f)\n",
    "\n",
    "    itch_book = pd.read_csv(\n",
    "        b_f,\n",
    "        # index_col=False,\n",
    "        # header=None\n",
    "    )\n",
    "    assert len(itch_messages) == len(itch_book)\n",
    "\n",
    "    print(\"ITCH messages shape:\", itch_messages.shape)\n",
    "    print(\"ITCH book shape:\", itch_book.shape)\n",
    "\n",
    "    # return first one only\n",
    "    break"
   ]
  },
  {
   "cell_type": "code",
   "execution_count": 7,
   "metadata": {},
   "outputs": [
    {
     "name": "stdout",
     "output_type": "stream",
     "text": [
      "/home/aaron/Documents/Github/MarketSimT/dataset/symbols/sp500_constituents_symbols_3_06_2023.txt\n"
     ]
    },
    {
     "data": {
      "text/plain": [
       "'AAPL'"
      ]
     },
     "execution_count": 7,
     "metadata": {},
     "output_type": "execute_result"
    }
   ],
   "source": [
    "# load symbols file\n",
    "symbols_load_path = parent_folder_path + '/dataset/symbols/'\n",
    "symbols_file = sorted(glob(symbols_load_path + '*sp500*.txt'))[0]\n",
    "\n",
    "print(symbols_file)\n",
    "\n",
    "# create symbol mapping\n",
    "d = {}\n",
    "with open(symbols_file) as f:\n",
    "    idx = 0\n",
    "    for line in f:\n",
    "        idx += 1\n",
    "        d[line.strip()] = idx\n",
    "\n",
    "ticker = m_f.rsplit('/', maxsplit=1)[-1][:-12].rsplit('_', maxsplit=1)[-1]\n",
    "ticker"
   ]
  },
  {
   "cell_type": "markdown",
   "metadata": {},
   "source": [
    "### Message Processing"
   ]
  },
  {
   "cell_type": "code",
   "execution_count": 8,
   "metadata": {},
   "outputs": [],
   "source": [
    "# lobster_messages\n",
    "# # lobster_book\n",
    "\n",
    "# # itch_messages\n",
    "# # itch_book"
   ]
  },
  {
   "cell_type": "code",
   "execution_count": 9,
   "metadata": {},
   "outputs": [],
   "source": [
    "# print(\"Columns:\", list(lobster_messages.columns))\n",
    "# print(\"Sample:\", lobster_messages.values[1])\n",
    "# print()\n",
    "\n",
    "# lobster_tok = lobster_encoding.Message_Tokenizer()\n",
    "\n",
    "# print('<< pre processing LOBSTER dataset >>')\n",
    "# lobster_m_ = lobster_tok.preproc(lobster_messages, lobster_book)\n",
    "\n",
    "# print(\"Shape:\", lobster_m_.shape)\n",
    "# print(\"Columns:\", ['order_id', 'event_type', 'direction', 'price_abs', 'price', 'size',\n",
    "#                'delta_t_s', 'delta_t_ns', 'time_s', 'time_ns',\n",
    "#                # ref fields\n",
    "#                'price', 'size', 'time_s', 'time_ns'])\n",
    "# print(\"Sample:\", lobster_m_[0])\n",
    "# lobster_m_"
   ]
  },
  {
   "cell_type": "code",
   "execution_count": 10,
   "metadata": {},
   "outputs": [],
   "source": [
    "# # filter out only allowed event types ...\n",
    "# allowed_event_types=[1,2,3,4]\n",
    "# lobster_messages = lobster_messages.loc[lobster_messages.event_type.isin(allowed_event_types)].copy()\n",
    "# # ... and corresponding book changes\n",
    "# lobster_book = lobster_book.loc[lobster_messages.index]\n",
    "\n",
    "# # TIME\n",
    "# # DELTA_T: time since previous order --> 4 tokens of length 3\n",
    "# lobster_messages.insert(\n",
    "#     loc=1,\n",
    "#     column='delta_t_ns',\n",
    "#     value=lobster_messages['time'].diff().fillna(0)\n",
    "# )\n",
    "# lobster_messages.insert(\n",
    "#     loc=1,\n",
    "#     column='delta_t_s',\n",
    "#     value=lobster_messages.delta_t_ns.astype(int)\n",
    "# )\n",
    "# lobster_messages.delta_t_ns = ((lobster_messages.delta_t_ns % 1) * 1000000000).astype(int)\n",
    "\n",
    "# lobster_messages.insert(0, 'time_s', lobster_messages.time.astype(int))\n",
    "# lobster_messages.rename(columns={'time': 'time_ns'}, inplace=True)\n",
    "# lobster_messages.time_ns = ((lobster_messages.time_ns % 1) * 1000000000).astype(int)\n",
    "\n",
    "# # SIZE\n",
    "# lobster_messages.loc[lobster_messages['size'] > 9999, 'size'] = 9999\n",
    "# lobster_messages['size'] = lobster_messages['size'].astype(int)\n",
    "\n",
    "# # PRICE\n",
    "# lobster_messages['price_abs'] = lobster_messages.price  # keep absolute price for later (simulator)\n",
    "# # mid-price reference, rounded down to nearest tick_size\n",
    "# tick_size = 100\n",
    "# p_ref = ((lobster_book.iloc[:, 0] + lobster_book.iloc[:, 2]) / 2).shift()#.round(-2).astype(int).shift()\n",
    "# p_ref = (p_ref // tick_size) * tick_size\n",
    "# # --> 1999 price levels // ...00 since tick size is 100\n",
    "# lobster_messages.price = lobster_tok._preproc_prices(lobster_messages.price, p_ref, p_lower_trunc=-99900, p_upper_trunc=99900)\n",
    "# lobster_messages = lobster_messages.iloc[1:]\n",
    "# lobster_messages.price = lobster_messages.price.astype(int)\n",
    "\n",
    "# # DIRECTION\n",
    "# lobster_messages.direction = ((lobster_messages.direction + 1) / 2).astype(int)\n",
    "\n",
    "# # change column order\n",
    "# lobster_messages = lobster_messages[['order_id', 'event_type', 'direction', 'price_abs', 'price', 'size',\n",
    "#         'delta_t_s', 'delta_t_ns', 'time_s', 'time_ns']]\n",
    "\n",
    "# lobster_messages"
   ]
  },
  {
   "cell_type": "code",
   "execution_count": 11,
   "metadata": {},
   "outputs": [],
   "source": [
    "# # add original message as feature\n",
    "# # for all referential order types (2, 3, 4)\n",
    "# modif_types={2,3,4}\n",
    "# modif_fields=['price', 'size', 'time_s', 'time_ns']\n",
    "# nan_val=-9999\n",
    "\n",
    "# m_changes = pd.merge(\n",
    "#     lobster_messages.loc[lobster_messages.event_type.isin(modif_types)].reset_index(),\n",
    "#     lobster_messages.loc[lobster_messages.event_type == 1, ['order_id'] + modif_fields],\n",
    "#     how='left', on='order_id', suffixes=['', '_ref']).set_index('index')\n",
    "\n",
    "# # m_changes\n",
    "\n",
    "# # add new empty columns for referenced order\n",
    "# modif_cols = [field + '_ref' for field in modif_fields]\n",
    "# lobster_messages[modif_cols] = nan_val\n",
    "\n",
    "# # replace order changes by original order and additional new fields\n",
    "# lobster_messages.loc[m_changes.index] = m_changes\n",
    "# lobster_messages[modif_cols] = lobster_messages[modif_cols].fillna(nan_val).astype(int)\n",
    "\n",
    "# lobster_messages"
   ]
  },
  {
   "cell_type": "code",
   "execution_count": 12,
   "metadata": {},
   "outputs": [
    {
     "data": {
      "text/html": [
       "<div>\n",
       "<style scoped>\n",
       "    .dataframe tbody tr th:only-of-type {\n",
       "        vertical-align: middle;\n",
       "    }\n",
       "\n",
       "    .dataframe tbody tr th {\n",
       "        vertical-align: top;\n",
       "    }\n",
       "\n",
       "    .dataframe thead th {\n",
       "        text-align: right;\n",
       "    }\n",
       "</style>\n",
       "<table border=\"1\" class=\"dataframe\">\n",
       "  <thead>\n",
       "    <tr style=\"text-align: right;\">\n",
       "      <th></th>\n",
       "      <th>time</th>\n",
       "      <th>type</th>\n",
       "      <th>id</th>\n",
       "      <th>side</th>\n",
       "      <th>size</th>\n",
       "      <th>price</th>\n",
       "      <th>cancSize</th>\n",
       "      <th>execSize</th>\n",
       "      <th>oldId</th>\n",
       "      <th>oldSize</th>\n",
       "      <th>oldPrice</th>\n",
       "      <th>mpid</th>\n",
       "    </tr>\n",
       "  </thead>\n",
       "  <tbody>\n",
       "    <tr>\n",
       "      <th>0</th>\n",
       "      <td>14400006432545</td>\n",
       "      <td>A</td>\n",
       "      <td>13301</td>\n",
       "      <td>1</td>\n",
       "      <td>18.0</td>\n",
       "      <td>207.85</td>\n",
       "      <td>NaN</td>\n",
       "      <td>NaN</td>\n",
       "      <td>NaN</td>\n",
       "      <td>NaN</td>\n",
       "      <td>NaN</td>\n",
       "      <td>NaN</td>\n",
       "    </tr>\n",
       "    <tr>\n",
       "      <th>1</th>\n",
       "      <td>14400008777412</td>\n",
       "      <td>A</td>\n",
       "      <td>15969</td>\n",
       "      <td>0</td>\n",
       "      <td>100.0</td>\n",
       "      <td>129.33</td>\n",
       "      <td>NaN</td>\n",
       "      <td>NaN</td>\n",
       "      <td>NaN</td>\n",
       "      <td>NaN</td>\n",
       "      <td>NaN</td>\n",
       "      <td>NaN</td>\n",
       "    </tr>\n",
       "    <tr>\n",
       "      <th>2</th>\n",
       "      <td>14400016498868</td>\n",
       "      <td>A</td>\n",
       "      <td>20677</td>\n",
       "      <td>0</td>\n",
       "      <td>1.0</td>\n",
       "      <td>114.94</td>\n",
       "      <td>NaN</td>\n",
       "      <td>NaN</td>\n",
       "      <td>NaN</td>\n",
       "      <td>NaN</td>\n",
       "      <td>NaN</td>\n",
       "      <td>NaN</td>\n",
       "    </tr>\n",
       "    <tr>\n",
       "      <th>3</th>\n",
       "      <td>14400017857990</td>\n",
       "      <td>A</td>\n",
       "      <td>22061</td>\n",
       "      <td>0</td>\n",
       "      <td>1.0</td>\n",
       "      <td>98.39</td>\n",
       "      <td>NaN</td>\n",
       "      <td>NaN</td>\n",
       "      <td>NaN</td>\n",
       "      <td>NaN</td>\n",
       "      <td>NaN</td>\n",
       "      <td>NaN</td>\n",
       "    </tr>\n",
       "    <tr>\n",
       "      <th>4</th>\n",
       "      <td>14403597489791</td>\n",
       "      <td>A</td>\n",
       "      <td>98453</td>\n",
       "      <td>1</td>\n",
       "      <td>300.0</td>\n",
       "      <td>192.70</td>\n",
       "      <td>NaN</td>\n",
       "      <td>NaN</td>\n",
       "      <td>NaN</td>\n",
       "      <td>NaN</td>\n",
       "      <td>NaN</td>\n",
       "      <td>NaN</td>\n",
       "    </tr>\n",
       "    <tr>\n",
       "      <th>...</th>\n",
       "      <td>...</td>\n",
       "      <td>...</td>\n",
       "      <td>...</td>\n",
       "      <td>...</td>\n",
       "      <td>...</td>\n",
       "      <td>...</td>\n",
       "      <td>...</td>\n",
       "      <td>...</td>\n",
       "      <td>...</td>\n",
       "      <td>...</td>\n",
       "      <td>...</td>\n",
       "      <td>...</td>\n",
       "    </tr>\n",
       "    <tr>\n",
       "      <th>2010131</th>\n",
       "      <td>72000073334596</td>\n",
       "      <td>D</td>\n",
       "      <td>336886329</td>\n",
       "      <td>0</td>\n",
       "      <td>0.0</td>\n",
       "      <td>186.45</td>\n",
       "      <td>100.0</td>\n",
       "      <td>NaN</td>\n",
       "      <td>NaN</td>\n",
       "      <td>NaN</td>\n",
       "      <td>NaN</td>\n",
       "      <td>NaN</td>\n",
       "    </tr>\n",
       "    <tr>\n",
       "      <th>2010132</th>\n",
       "      <td>72000073447563</td>\n",
       "      <td>D</td>\n",
       "      <td>342882157</td>\n",
       "      <td>0</td>\n",
       "      <td>0.0</td>\n",
       "      <td>188.00</td>\n",
       "      <td>1.0</td>\n",
       "      <td>NaN</td>\n",
       "      <td>NaN</td>\n",
       "      <td>NaN</td>\n",
       "      <td>NaN</td>\n",
       "      <td>NaN</td>\n",
       "    </tr>\n",
       "    <tr>\n",
       "      <th>2010133</th>\n",
       "      <td>72000073477970</td>\n",
       "      <td>D</td>\n",
       "      <td>335312241</td>\n",
       "      <td>0</td>\n",
       "      <td>0.0</td>\n",
       "      <td>175.00</td>\n",
       "      <td>50.0</td>\n",
       "      <td>NaN</td>\n",
       "      <td>NaN</td>\n",
       "      <td>NaN</td>\n",
       "      <td>NaN</td>\n",
       "      <td>NaN</td>\n",
       "    </tr>\n",
       "    <tr>\n",
       "      <th>2010134</th>\n",
       "      <td>72000074023439</td>\n",
       "      <td>D</td>\n",
       "      <td>343725045</td>\n",
       "      <td>1</td>\n",
       "      <td>0.0</td>\n",
       "      <td>195.00</td>\n",
       "      <td>2600.0</td>\n",
       "      <td>NaN</td>\n",
       "      <td>NaN</td>\n",
       "      <td>NaN</td>\n",
       "      <td>NaN</td>\n",
       "      <td>NaN</td>\n",
       "    </tr>\n",
       "    <tr>\n",
       "      <th>2010135</th>\n",
       "      <td>72000074213874</td>\n",
       "      <td>D</td>\n",
       "      <td>353209329</td>\n",
       "      <td>1</td>\n",
       "      <td>0.0</td>\n",
       "      <td>188.99</td>\n",
       "      <td>1000.0</td>\n",
       "      <td>NaN</td>\n",
       "      <td>NaN</td>\n",
       "      <td>NaN</td>\n",
       "      <td>NaN</td>\n",
       "      <td>NaN</td>\n",
       "    </tr>\n",
       "  </tbody>\n",
       "</table>\n",
       "<p>2010136 rows × 12 columns</p>\n",
       "</div>"
      ],
      "text/plain": [
       "                   time type         id  side   size   price  cancSize  \\\n",
       "0        14400006432545    A      13301     1   18.0  207.85       NaN   \n",
       "1        14400008777412    A      15969     0  100.0  129.33       NaN   \n",
       "2        14400016498868    A      20677     0    1.0  114.94       NaN   \n",
       "3        14400017857990    A      22061     0    1.0   98.39       NaN   \n",
       "4        14403597489791    A      98453     1  300.0  192.70       NaN   \n",
       "...                 ...  ...        ...   ...    ...     ...       ...   \n",
       "2010131  72000073334596    D  336886329     0    0.0  186.45     100.0   \n",
       "2010132  72000073447563    D  342882157     0    0.0  188.00       1.0   \n",
       "2010133  72000073477970    D  335312241     0    0.0  175.00      50.0   \n",
       "2010134  72000074023439    D  343725045     1    0.0  195.00    2600.0   \n",
       "2010135  72000074213874    D  353209329     1    0.0  188.99    1000.0   \n",
       "\n",
       "         execSize  oldId  oldSize  oldPrice mpid  \n",
       "0             NaN    NaN      NaN       NaN  NaN  \n",
       "1             NaN    NaN      NaN       NaN  NaN  \n",
       "2             NaN    NaN      NaN       NaN  NaN  \n",
       "3             NaN    NaN      NaN       NaN  NaN  \n",
       "4             NaN    NaN      NaN       NaN  NaN  \n",
       "...           ...    ...      ...       ...  ...  \n",
       "2010131       NaN    NaN      NaN       NaN  NaN  \n",
       "2010132       NaN    NaN      NaN       NaN  NaN  \n",
       "2010133       NaN    NaN      NaN       NaN  NaN  \n",
       "2010134       NaN    NaN      NaN       NaN  NaN  \n",
       "2010135       NaN    NaN      NaN       NaN  NaN  \n",
       "\n",
       "[2010136 rows x 12 columns]"
      ]
     },
     "execution_count": 12,
     "metadata": {},
     "output_type": "execute_result"
    }
   ],
   "source": [
    "itch_messages"
   ]
  },
  {
   "cell_type": "markdown",
   "metadata": {},
   "source": [
    "##### ITCH Pre-processing"
   ]
  },
  {
   "cell_type": "code",
   "execution_count": 13,
   "metadata": {},
   "outputs": [
    {
     "data": {
      "text/html": [
       "<div>\n",
       "<style scoped>\n",
       "    .dataframe tbody tr th:only-of-type {\n",
       "        vertical-align: middle;\n",
       "    }\n",
       "\n",
       "    .dataframe tbody tr th {\n",
       "        vertical-align: top;\n",
       "    }\n",
       "\n",
       "    .dataframe thead th {\n",
       "        text-align: right;\n",
       "    }\n",
       "</style>\n",
       "<table border=\"1\" class=\"dataframe\">\n",
       "  <thead>\n",
       "    <tr style=\"text-align: right;\">\n",
       "      <th></th>\n",
       "      <th>time</th>\n",
       "      <th>type</th>\n",
       "      <th>id</th>\n",
       "      <th>side</th>\n",
       "      <th>size</th>\n",
       "      <th>price</th>\n",
       "      <th>cancSize</th>\n",
       "      <th>execSize</th>\n",
       "      <th>oldId</th>\n",
       "      <th>oldSize</th>\n",
       "      <th>oldPrice</th>\n",
       "    </tr>\n",
       "  </thead>\n",
       "  <tbody>\n",
       "    <tr>\n",
       "      <th>0</th>\n",
       "      <td>14400.006432545</td>\n",
       "      <td>A</td>\n",
       "      <td>13301</td>\n",
       "      <td>1</td>\n",
       "      <td>18.0</td>\n",
       "      <td>20785</td>\n",
       "      <td>NaN</td>\n",
       "      <td>NaN</td>\n",
       "      <td>NaN</td>\n",
       "      <td>NaN</td>\n",
       "      <td>NaN</td>\n",
       "    </tr>\n",
       "    <tr>\n",
       "      <th>1</th>\n",
       "      <td>14400.008777412</td>\n",
       "      <td>A</td>\n",
       "      <td>15969</td>\n",
       "      <td>0</td>\n",
       "      <td>100.0</td>\n",
       "      <td>12933</td>\n",
       "      <td>NaN</td>\n",
       "      <td>NaN</td>\n",
       "      <td>NaN</td>\n",
       "      <td>NaN</td>\n",
       "      <td>NaN</td>\n",
       "    </tr>\n",
       "    <tr>\n",
       "      <th>2</th>\n",
       "      <td>14400.016498868</td>\n",
       "      <td>A</td>\n",
       "      <td>20677</td>\n",
       "      <td>0</td>\n",
       "      <td>1.0</td>\n",
       "      <td>11494</td>\n",
       "      <td>NaN</td>\n",
       "      <td>NaN</td>\n",
       "      <td>NaN</td>\n",
       "      <td>NaN</td>\n",
       "      <td>NaN</td>\n",
       "    </tr>\n",
       "    <tr>\n",
       "      <th>3</th>\n",
       "      <td>14400.017857990</td>\n",
       "      <td>A</td>\n",
       "      <td>22061</td>\n",
       "      <td>0</td>\n",
       "      <td>1.0</td>\n",
       "      <td>9839</td>\n",
       "      <td>NaN</td>\n",
       "      <td>NaN</td>\n",
       "      <td>NaN</td>\n",
       "      <td>NaN</td>\n",
       "      <td>NaN</td>\n",
       "    </tr>\n",
       "    <tr>\n",
       "      <th>4</th>\n",
       "      <td>14403.597489791</td>\n",
       "      <td>A</td>\n",
       "      <td>98453</td>\n",
       "      <td>1</td>\n",
       "      <td>300.0</td>\n",
       "      <td>19270</td>\n",
       "      <td>NaN</td>\n",
       "      <td>NaN</td>\n",
       "      <td>NaN</td>\n",
       "      <td>NaN</td>\n",
       "      <td>NaN</td>\n",
       "    </tr>\n",
       "    <tr>\n",
       "      <th>...</th>\n",
       "      <td>...</td>\n",
       "      <td>...</td>\n",
       "      <td>...</td>\n",
       "      <td>...</td>\n",
       "      <td>...</td>\n",
       "      <td>...</td>\n",
       "      <td>...</td>\n",
       "      <td>...</td>\n",
       "      <td>...</td>\n",
       "      <td>...</td>\n",
       "      <td>...</td>\n",
       "    </tr>\n",
       "    <tr>\n",
       "      <th>2010131</th>\n",
       "      <td>72000.073334596</td>\n",
       "      <td>D</td>\n",
       "      <td>336886329</td>\n",
       "      <td>0</td>\n",
       "      <td>0.0</td>\n",
       "      <td>18645</td>\n",
       "      <td>100.0</td>\n",
       "      <td>NaN</td>\n",
       "      <td>NaN</td>\n",
       "      <td>NaN</td>\n",
       "      <td>NaN</td>\n",
       "    </tr>\n",
       "    <tr>\n",
       "      <th>2010132</th>\n",
       "      <td>72000.073447563</td>\n",
       "      <td>D</td>\n",
       "      <td>342882157</td>\n",
       "      <td>0</td>\n",
       "      <td>0.0</td>\n",
       "      <td>18800</td>\n",
       "      <td>1.0</td>\n",
       "      <td>NaN</td>\n",
       "      <td>NaN</td>\n",
       "      <td>NaN</td>\n",
       "      <td>NaN</td>\n",
       "    </tr>\n",
       "    <tr>\n",
       "      <th>2010133</th>\n",
       "      <td>72000.073477970</td>\n",
       "      <td>D</td>\n",
       "      <td>335312241</td>\n",
       "      <td>0</td>\n",
       "      <td>0.0</td>\n",
       "      <td>17500</td>\n",
       "      <td>50.0</td>\n",
       "      <td>NaN</td>\n",
       "      <td>NaN</td>\n",
       "      <td>NaN</td>\n",
       "      <td>NaN</td>\n",
       "    </tr>\n",
       "    <tr>\n",
       "      <th>2010134</th>\n",
       "      <td>72000.074023439</td>\n",
       "      <td>D</td>\n",
       "      <td>343725045</td>\n",
       "      <td>1</td>\n",
       "      <td>0.0</td>\n",
       "      <td>19500</td>\n",
       "      <td>2600.0</td>\n",
       "      <td>NaN</td>\n",
       "      <td>NaN</td>\n",
       "      <td>NaN</td>\n",
       "      <td>NaN</td>\n",
       "    </tr>\n",
       "    <tr>\n",
       "      <th>2010135</th>\n",
       "      <td>72000.074213874</td>\n",
       "      <td>D</td>\n",
       "      <td>353209329</td>\n",
       "      <td>1</td>\n",
       "      <td>0.0</td>\n",
       "      <td>18899</td>\n",
       "      <td>1000.0</td>\n",
       "      <td>NaN</td>\n",
       "      <td>NaN</td>\n",
       "      <td>NaN</td>\n",
       "      <td>NaN</td>\n",
       "    </tr>\n",
       "  </tbody>\n",
       "</table>\n",
       "<p>2010136 rows × 11 columns</p>\n",
       "</div>"
      ],
      "text/plain": [
       "                    time type         id  side   size  price  cancSize  \\\n",
       "0        14400.006432545    A      13301     1   18.0  20785       NaN   \n",
       "1        14400.008777412    A      15969     0  100.0  12933       NaN   \n",
       "2        14400.016498868    A      20677     0    1.0  11494       NaN   \n",
       "3        14400.017857990    A      22061     0    1.0   9839       NaN   \n",
       "4        14403.597489791    A      98453     1  300.0  19270       NaN   \n",
       "...                  ...  ...        ...   ...    ...    ...       ...   \n",
       "2010131  72000.073334596    D  336886329     0    0.0  18645     100.0   \n",
       "2010132  72000.073447563    D  342882157     0    0.0  18800       1.0   \n",
       "2010133  72000.073477970    D  335312241     0    0.0  17500      50.0   \n",
       "2010134  72000.074023439    D  343725045     1    0.0  19500    2600.0   \n",
       "2010135  72000.074213874    D  353209329     1    0.0  18899    1000.0   \n",
       "\n",
       "         execSize  oldId  oldSize  oldPrice  \n",
       "0             NaN    NaN      NaN       NaN  \n",
       "1             NaN    NaN      NaN       NaN  \n",
       "2             NaN    NaN      NaN       NaN  \n",
       "3             NaN    NaN      NaN       NaN  \n",
       "4             NaN    NaN      NaN       NaN  \n",
       "...           ...    ...      ...       ...  \n",
       "2010131       NaN    NaN      NaN       NaN  \n",
       "2010132       NaN    NaN      NaN       NaN  \n",
       "2010133       NaN    NaN      NaN       NaN  \n",
       "2010134       NaN    NaN      NaN       NaN  \n",
       "2010135       NaN    NaN      NaN       NaN  \n",
       "\n",
       "[2010136 rows x 11 columns]"
      ]
     },
     "execution_count": 13,
     "metadata": {},
     "output_type": "execute_result"
    }
   ],
   "source": [
    "# # filter messages that are above a certain level\n",
    "# filter_above_lvl = 20\n",
    "# # itch_book = itch_book.iloc[:, :filter_above_lvl * 4 + 1]\n",
    "# itch_messages, itch_book = itch_preproc.filter_by_lvl(itch_messages, itch_book, filter_above_lvl)\n",
    "\n",
    "# remove mpid field from ITCH data\n",
    "itch_messages = itch_messages.drop(columns=['mpid'])\n",
    "\n",
    "# remove pre-market and after-market hours from ITCH data\n",
    "remove_premarket = False # True\n",
    "remove_aftermarket = False # True\n",
    "\n",
    "if remove_premarket:\n",
    "    itch_messages = itch_messages[itch_messages['time'] >= 34200000000000]\n",
    "if remove_aftermarket:\n",
    "    itch_messages = itch_messages[itch_messages['time'] <= 57600000000000]\n",
    "\n",
    "# itch_messages = itch_messages[itch_messages['time'] >= 34200000000000]\n",
    "# itch_messages = itch_messages[itch_messages['time'] <= 57600000000000]\n",
    "\n",
    "# format time for pre-processing\n",
    "itch_messages['time'] = itch_messages['time'].astype('string')\n",
    "itch_messages['time'] = itch_messages['time'].apply(lambda x: '.'.join((x[0:5], x[5:])))\n",
    "itch_messages['time'] = itch_messages['time'].apply(lambda x: Decimal(x))\n",
    "\n",
    "# convert price to pennies from dollars\n",
    "itch_messages['price'] = (itch_messages['price'] * 100).astype('int')\n",
    "itch_messages['oldPrice'] = (itch_messages['oldPrice'] * 100) # make int after dealing with NaNs\n",
    "\n",
    "itch_messages"
   ]
  },
  {
   "cell_type": "code",
   "execution_count": 14,
   "metadata": {},
   "outputs": [
    {
     "name": "stdout",
     "output_type": "stream",
     "text": [
      "Columns: ['time', 'type', 'id', 'side', 'size', 'price', 'cancSize', 'execSize', 'oldId', 'oldSize', 'oldPrice']\n",
      "Sample: [Decimal('14400.008777412') 'A' 15969 0 100.0 12933 nan nan nan nan nan]\n",
      "\n",
      "<< pre processing ITCH dataset >>\n",
      "truncating 1.8007% of prices > 999\n",
      "truncating 1.6144% of prices < -999\n",
      "Shape: (2003140, 17)\n",
      "Columns: ['id', 'type', 'side', 'price_abs', 'price', 'fill_size', 'remain_size', 'delta_t_s', 'delta_t_ns', 'time_s', 'time_ns', 'old_id', 'price_ref', 'fill_size_ref', 'time_s_ref', 'time_ns_ref', 'old_price_abs']\n",
      "Sample: [  15969       1       0   12933     999     100   -9999       0 2344867\n",
      "   14400 8777412   -9999   -9999   -9999   -9999   -9999   -9999]\n"
     ]
    },
    {
     "name": "stderr",
     "output_type": "stream",
     "text": [
      "/home/aaron/Documents/Github/MarketSimT/equities/data_processing/itch_encoding.py:475: FutureWarning: Downcasting behavior in `replace` is deprecated and will be removed in a future version. To retain the old behavior, explicitly call `result.infer_objects(copy=False)`. To opt-in to the future behavior, set `pd.set_option('future.no_silent_downcasting', True)`\n",
      "  m.type = m.type.replace({'A': 1, 'E': 2, 'C': 3, 'D': 4, 'R': 5})\n"
     ]
    },
    {
     "data": {
      "text/plain": [
       "array([[    15969,         1,         0, ...,     -9999,     -9999,\n",
       "            -9999],\n",
       "       [    20677,         1,         0, ...,     -9999,     -9999,\n",
       "            -9999],\n",
       "       [    22061,         1,         0, ...,     -9999,     -9999,\n",
       "            -9999],\n",
       "       ...,\n",
       "       [335312241,         4,         0, ...,     56890, 566837429,\n",
       "            -9999],\n",
       "       [343725045,         4,         1, ...,     57309, 388685794,\n",
       "            -9999],\n",
       "       [353209329,         4,         1, ...,     57799, 533545153,\n",
       "            -9999]])"
      ]
     },
     "execution_count": 14,
     "metadata": {},
     "output_type": "execute_result"
    }
   ],
   "source": [
    "print(\"Columns:\", list(itch_messages.columns))\n",
    "print(\"Sample:\", itch_messages.values[1])\n",
    "print()\n",
    "\n",
    "itch_tok = itch_encoding.Message_Tokenizer()\n",
    "\n",
    "print('<< pre processing ITCH dataset >>')\n",
    "itch_m_ = itch_tok.preproc(itch_messages, itch_book)\n",
    "\n",
    "print(\"Shape:\", itch_m_.shape)\n",
    "# print(\"Columns:\", ['id', 'type', 'side', 'price_abs', 'price', 'size',\n",
    "#                'delta_t_s', 'delta_t_ns', 'time_s', 'time_ns',\n",
    "#                # ref fields\n",
    "#                'cancSize', 'execSize', 'oldId', 'oldSize', 'oldPrice',\n",
    "#                'time_s_ref', 'time_ns_ref'])\n",
    "\n",
    "print(\"Columns:\", ['id', 'type', 'side', 'price_abs', 'price', 'fill_size', 'remain_size', \n",
    "                'delta_t_s', 'delta_t_ns', 'time_s', 'time_ns', 'old_id',\n",
    "                # ref fields\n",
    "                'price_ref', 'fill_size_ref', 'time_s_ref', 'time_ns_ref', 'old_price_abs'])\n",
    "\n",
    "print(\"Sample:\", itch_m_[0])\n",
    "itch_m_"
   ]
  },
  {
   "cell_type": "code",
   "execution_count": 15,
   "metadata": {},
   "outputs": [
    {
     "name": "stdout",
     "output_type": "stream",
     "text": [
      "(2003140, 18)\n"
     ]
    },
    {
     "data": {
      "text/plain": [
       "array([[       40,     15969,         1, ...,     -9999,     -9999,\n",
       "            -9999],\n",
       "       [       40,     20677,         1, ...,     -9999,     -9999,\n",
       "            -9999],\n",
       "       [       40,     22061,         1, ...,     -9999,     -9999,\n",
       "            -9999],\n",
       "       ...,\n",
       "       [       40, 335312241,         4, ...,     56890, 566837429,\n",
       "            -9999],\n",
       "       [       40, 343725045,         4, ...,     57309, 388685794,\n",
       "            -9999],\n",
       "       [       40, 353209329,         4, ...,     57799, 533545153,\n",
       "            -9999]])"
      ]
     },
     "execution_count": 15,
     "metadata": {},
     "output_type": "execute_result"
    }
   ],
   "source": [
    "# print(itch_m_.shape)\n",
    "itch_m_\n",
    "\n",
    "# prepend column with ticker ID\n",
    "ticker_id = d[ticker]\n",
    "itch_m_ = np.concatenate([np.full((itch_m_.shape[0], 1), ticker_id), itch_m_], axis=1)\n",
    "print(itch_m_.shape)\n",
    "itch_m_\n"
   ]
  },
  {
   "cell_type": "code",
   "execution_count": 29,
   "metadata": {},
   "outputs": [],
   "source": [
    "# itch_tok = itch_encoding.Message_Tokenizer()\n",
    "\n",
    "# # filter out only allowed event types ...\n",
    "# allowed_event_types=['A','E','C','D','R']\n",
    "# itch_messages = itch_messages.loc[itch_messages.type.isin(allowed_event_types)].copy()\n",
    "# # ... and corresponding book changes\n",
    "# itch_book = itch_book.loc[itch_messages.index]\n",
    "\n",
    "# # TIME\n",
    "# # DELTA_T: time since previous order --> 4 tokens of length 3\n",
    "# itch_messages.insert(\n",
    "#     loc=1,\n",
    "#     column='delta_t_ns',\n",
    "#     value=itch_messages['time'].diff().fillna(0)\n",
    "# )\n",
    "# itch_messages.insert(\n",
    "#     loc=1,\n",
    "#     column='delta_t_s',\n",
    "#     value=itch_messages.delta_t_ns.astype(int)\n",
    "# )\n",
    "# itch_messages.delta_t_ns = ((itch_messages.delta_t_ns % 1) * 1000000000).astype(int)\n",
    "\n",
    "# itch_messages.insert(0, 'time_s', itch_messages.time.astype(int))\n",
    "# itch_messages.rename(columns={'time': 'time_ns'}, inplace=True)\n",
    "# itch_messages.time_ns = ((itch_messages.time_ns % 1) * 1000000000).astype(int)\n",
    "\n",
    "# # SIZE\n",
    "# itch_messages.loc[itch_messages['size'] > 9999, 'size'] = 9999\n",
    "# itch_messages.loc[itch_messages['oldSize'] > 9999, 'oldSize'] = 9999\n",
    "# itch_messages.loc[itch_messages['execSize'] > 9999, 'execSize'] = 9999\n",
    "# itch_messages.loc[itch_messages['cancSize'] > 9999, 'cancSize'] = 9999\n",
    "# itch_messages['size'] = itch_messages['size'].astype(int) # cannot do this to all other size fields bc they may be NaN (handled later)\n",
    "# # consolidate size columns\n",
    "# itch_messages['remain_size'] = itch_messages['size']\n",
    "# n_cols = len(itch_messages.columns)\n",
    "# for i in range(0, len(itch_messages)):\n",
    "#     # set remaining size of add order to NaN\n",
    "#     if itch_messages['type'].iloc[i] == 'A':\n",
    "#         itch_messages.iloc[i, (n_cols-1)] = itch_messages['execSize'].iloc[i] # NaN\n",
    "#     # set fill size of execute and cancel orders to execSize and cancSize respectively\n",
    "#     elif itch_messages['type'].iloc[i] == 'E':\n",
    "#         itch_messages.iloc[i, 7] = itch_messages['execSize'].iloc[i]\n",
    "#     elif itch_messages['type'].iloc[i] == 'C':\n",
    "#         itch_messages.iloc[i, 7] = itch_messages['execSize'].iloc[i]\n",
    "#     elif itch_messages['type'].iloc[i] == 'D':\n",
    "#         itch_messages.iloc[i, 7] = itch_messages['cancSize'].iloc[i]\n",
    "#     # set remaining size of replace order to NaN\n",
    "#     elif itch_messages['type'].iloc[i] == 'R':\n",
    "#         itch_messages.iloc[i, (n_cols-1)] = itch_messages['execSize'].iloc[i] # NaN\n",
    "# itch_messages = itch_messages.rename(columns={'size': 'fill_size'})\n",
    "\n",
    "\n",
    "# # PRICE\n",
    "# itch_messages['price_abs'] = itch_messages.price  # keep absolute price for later (simulator)\n",
    "# itch_messages['old_price_abs'] = itch_messages.oldPrice  # keep absolute old price for later (simulator)\n",
    "# # mid-price reference, rounded down to nearest tick_size\n",
    "# tick_size = 1\n",
    "# p_ref = (((itch_book.iloc[:, 1] * 100) + (itch_book.iloc[:, 3] * 100)) / 2).shift()#.round(-2).astype(int).shift()\n",
    "# p_ref = (p_ref // tick_size) * tick_size\n",
    "# # --> 1999 price levels // ...00 since tick size is 100\n",
    "# itch_messages.price = itch_tok._preproc_prices(itch_messages.price, p_ref, p_lower_trunc=-999, p_upper_trunc=999)\n",
    "# itch_messages = itch_messages.iloc[1:]\n",
    "# # itch_messages.price = itch_messages.price.astype(int)\n",
    "# itch_messages.price = itch_messages.price.fillna(999).astype(int)\n",
    "\n",
    "# # # DIRECTION\n",
    "# # itch_messages.direction = ((itch_messages.direction + 1) / 2).astype(int)\n",
    "\n",
    "# itch_messages"
   ]
  },
  {
   "cell_type": "code",
   "execution_count": 30,
   "metadata": {},
   "outputs": [],
   "source": [
    "# # add time elements of original message as feature and process NaNs\n",
    "# # for all referential order types ('E','C','D','R')\n",
    "# modif_types={'E','C','D'}\n",
    "# modif_types_special={'R'}\n",
    "# modif_fields=['price', 'fill_size', 'time_s', 'time_ns']\n",
    "# modif_fields_special=['price_abs', 'fill_size', 'time_s', 'time_ns']\n",
    "# # ref_cols = ['cancSize', 'execSize', 'oldId', 'oldSize', 'oldPrice']\n",
    "# special_cols = ['oldId', 'remain_size', 'old_price_abs']\n",
    "# nan_val=-9999\n",
    "\n",
    "# # make df that converts 'R' values to 'A' values so that we can reference add order component of replace orders\n",
    "# itch_r_messages = itch_messages.copy()\n",
    "# itch_r_messages['type'] = itch_r_messages['type'].replace('R', 'A')\n",
    "\n",
    "# # find and merge modif_fields of E, C, D events that match with A (and R) event id\n",
    "# m_changes = pd.merge(\n",
    "#     itch_messages.loc[itch_messages.type.isin(modif_types)].reset_index(),\n",
    "#     itch_r_messages.loc[itch_r_messages.type == 'A', ['id'] + modif_fields],\n",
    "#     how='left', on='id', suffixes=['', '_ref']).set_index('index')\n",
    "\n",
    "# m_changes\n",
    "\n",
    "# # find modif_fields of R events that match with past A and R event oldIds\n",
    "# m_changes_special = pd.merge(\n",
    "#     itch_messages.loc[itch_messages.type.isin(modif_types_special)].reset_index(),\n",
    "#     (itch_r_messages.loc[itch_r_messages.type == 'A', ['id'] + modif_fields_special]).rename(columns={'id': 'oldId'}),\n",
    "#     how='left', on='oldId', suffixes=['', '_ref']).set_index('index')\n",
    "# # price_ref = old_mid_price - new_mid_price (different from price_ref above)\n",
    "# m_changes_special.rename(columns={'price_abs_ref': 'price_ref'}, inplace=True)\n",
    "# m_changes_special['price_ref'] = m_changes_special['price_ref'] - m_changes_special['price_abs']\n",
    "\n",
    "# m_changes_special\n",
    "\n",
    "# # add new empty columns for referenced order\n",
    "# modif_cols = [field + '_ref' for field in modif_fields]\n",
    "# itch_messages[modif_cols] = nan_val\n",
    "\n",
    "# # fill reference order types with new values\n",
    "# itch_messages.loc[m_changes.index] = m_changes\n",
    "# itch_messages.loc[m_changes_special.index] = m_changes_special\n",
    "# itch_messages[modif_cols] = itch_messages[modif_cols].fillna(nan_val).astype(int)\n",
    "\n",
    "# # prepare remaining columns for encoding stage (fill NaNs)\n",
    "# itch_messages[special_cols] = itch_messages[special_cols].fillna(nan_val).astype(int)\n",
    "\n",
    "# itch_messages"
   ]
  },
  {
   "cell_type": "code",
   "execution_count": 31,
   "metadata": {},
   "outputs": [],
   "source": [
    "# # change column order\n",
    "# itch_messages = itch_messages.rename(columns={'oldId': 'old_id'})\n",
    "# itch_messages = itch_messages[['id', 'type', 'side', 'price_abs', 'price',\n",
    "#         'fill_size', 'remain_size', 'delta_t_s', 'delta_t_ns', 'time_s', 'time_ns',\n",
    "#         'old_id', 'price_ref', 'fill_size_ref', 'time_s_ref', 'time_ns_ref', 'old_price_abs']]\n",
    "\n",
    "# # event_map = {\n",
    "# #     'A': 1,\n",
    "# #     'E': 2,\n",
    "# #     'C': 3,\n",
    "# #     'D': 4,\n",
    "# #     'R': 5\n",
    "# # }\n",
    "# # itch_messages['type'] = itch_messages['type'].replace(event_map) \n",
    "# itch_messages.type = itch_messages.type.replace({'A': 1, 'E': 2, 'C': 3, 'D': 4, 'R': 5})\n",
    "# itch_messages"
   ]
  },
  {
   "cell_type": "markdown",
   "metadata": {},
   "source": [
    "### Book Processing"
   ]
  },
  {
   "cell_type": "code",
   "execution_count": 88,
   "metadata": {},
   "outputs": [
    {
     "name": "stderr",
     "output_type": "stream",
     "text": [
      "1it [00:04,  4.11s/it]"
     ]
    },
    {
     "name": "stdout",
     "output_type": "stream",
     "text": [
      "ITCH messages shape: (2010136, 12)\n",
      "ITCH book shape: (2010136, 81)\n",
      "ITCH messages shape 2: (2010136, 12)\n",
      "ITCH book shape 2: (2010136, 81)\n"
     ]
    },
    {
     "name": "stderr",
     "output_type": "stream",
     "text": [
      "\n"
     ]
    },
    {
     "name": "stdout",
     "output_type": "stream",
     "text": [
      "ITCH messages shape 3: (2003141, 12)\n",
      "ITCH book shape 3: (2003141, 81)\n",
      "ITCH messages shape 4: (2003141, 12)\n",
      "ITCH book shape 4: (2003141, 81)\n"
     ]
    },
    {
     "data": {
      "text/html": [
       "<div>\n",
       "<style scoped>\n",
       "    .dataframe tbody tr th:only-of-type {\n",
       "        vertical-align: middle;\n",
       "    }\n",
       "\n",
       "    .dataframe tbody tr th {\n",
       "        vertical-align: top;\n",
       "    }\n",
       "\n",
       "    .dataframe thead th {\n",
       "        text-align: right;\n",
       "    }\n",
       "</style>\n",
       "<table border=\"1\" class=\"dataframe\">\n",
       "  <thead>\n",
       "    <tr style=\"text-align: right;\">\n",
       "      <th></th>\n",
       "      <th>1_bid_price</th>\n",
       "      <th>1_bid_vol</th>\n",
       "      <th>1_ask_price</th>\n",
       "      <th>1_ask_vol</th>\n",
       "      <th>2_bid_price</th>\n",
       "      <th>2_bid_vol</th>\n",
       "      <th>2_ask_price</th>\n",
       "      <th>2_ask_vol</th>\n",
       "      <th>3_bid_price</th>\n",
       "      <th>3_bid_vol</th>\n",
       "      <th>...</th>\n",
       "      <th>18_ask_price</th>\n",
       "      <th>18_ask_vol</th>\n",
       "      <th>19_bid_price</th>\n",
       "      <th>19_bid_vol</th>\n",
       "      <th>19_ask_price</th>\n",
       "      <th>19_ask_vol</th>\n",
       "      <th>20_bid_price</th>\n",
       "      <th>20_bid_vol</th>\n",
       "      <th>20_ask_price</th>\n",
       "      <th>20_ask_vol</th>\n",
       "    </tr>\n",
       "  </thead>\n",
       "  <tbody>\n",
       "    <tr>\n",
       "      <th>0</th>\n",
       "      <td>NaN</td>\n",
       "      <td>NaN</td>\n",
       "      <td>207.85</td>\n",
       "      <td>18.0</td>\n",
       "      <td>NaN</td>\n",
       "      <td>NaN</td>\n",
       "      <td>NaN</td>\n",
       "      <td>NaN</td>\n",
       "      <td>NaN</td>\n",
       "      <td>NaN</td>\n",
       "      <td>...</td>\n",
       "      <td>NaN</td>\n",
       "      <td>NaN</td>\n",
       "      <td>NaN</td>\n",
       "      <td>NaN</td>\n",
       "      <td>NaN</td>\n",
       "      <td>NaN</td>\n",
       "      <td>NaN</td>\n",
       "      <td>NaN</td>\n",
       "      <td>NaN</td>\n",
       "      <td>NaN</td>\n",
       "    </tr>\n",
       "    <tr>\n",
       "      <th>1</th>\n",
       "      <td>129.33</td>\n",
       "      <td>100.0</td>\n",
       "      <td>207.85</td>\n",
       "      <td>18.0</td>\n",
       "      <td>NaN</td>\n",
       "      <td>NaN</td>\n",
       "      <td>NaN</td>\n",
       "      <td>NaN</td>\n",
       "      <td>NaN</td>\n",
       "      <td>NaN</td>\n",
       "      <td>...</td>\n",
       "      <td>NaN</td>\n",
       "      <td>NaN</td>\n",
       "      <td>NaN</td>\n",
       "      <td>NaN</td>\n",
       "      <td>NaN</td>\n",
       "      <td>NaN</td>\n",
       "      <td>NaN</td>\n",
       "      <td>NaN</td>\n",
       "      <td>NaN</td>\n",
       "      <td>NaN</td>\n",
       "    </tr>\n",
       "    <tr>\n",
       "      <th>2</th>\n",
       "      <td>129.33</td>\n",
       "      <td>100.0</td>\n",
       "      <td>207.85</td>\n",
       "      <td>18.0</td>\n",
       "      <td>114.94</td>\n",
       "      <td>1.0</td>\n",
       "      <td>NaN</td>\n",
       "      <td>NaN</td>\n",
       "      <td>NaN</td>\n",
       "      <td>NaN</td>\n",
       "      <td>...</td>\n",
       "      <td>NaN</td>\n",
       "      <td>NaN</td>\n",
       "      <td>NaN</td>\n",
       "      <td>NaN</td>\n",
       "      <td>NaN</td>\n",
       "      <td>NaN</td>\n",
       "      <td>NaN</td>\n",
       "      <td>NaN</td>\n",
       "      <td>NaN</td>\n",
       "      <td>NaN</td>\n",
       "    </tr>\n",
       "    <tr>\n",
       "      <th>3</th>\n",
       "      <td>129.33</td>\n",
       "      <td>100.0</td>\n",
       "      <td>207.85</td>\n",
       "      <td>18.0</td>\n",
       "      <td>114.94</td>\n",
       "      <td>1.0</td>\n",
       "      <td>NaN</td>\n",
       "      <td>NaN</td>\n",
       "      <td>98.39</td>\n",
       "      <td>1.0</td>\n",
       "      <td>...</td>\n",
       "      <td>NaN</td>\n",
       "      <td>NaN</td>\n",
       "      <td>NaN</td>\n",
       "      <td>NaN</td>\n",
       "      <td>NaN</td>\n",
       "      <td>NaN</td>\n",
       "      <td>NaN</td>\n",
       "      <td>NaN</td>\n",
       "      <td>NaN</td>\n",
       "      <td>NaN</td>\n",
       "    </tr>\n",
       "    <tr>\n",
       "      <th>4</th>\n",
       "      <td>129.33</td>\n",
       "      <td>100.0</td>\n",
       "      <td>192.70</td>\n",
       "      <td>300.0</td>\n",
       "      <td>114.94</td>\n",
       "      <td>1.0</td>\n",
       "      <td>207.85</td>\n",
       "      <td>18.0</td>\n",
       "      <td>98.39</td>\n",
       "      <td>1.0</td>\n",
       "      <td>...</td>\n",
       "      <td>NaN</td>\n",
       "      <td>NaN</td>\n",
       "      <td>NaN</td>\n",
       "      <td>NaN</td>\n",
       "      <td>NaN</td>\n",
       "      <td>NaN</td>\n",
       "      <td>NaN</td>\n",
       "      <td>NaN</td>\n",
       "      <td>NaN</td>\n",
       "      <td>NaN</td>\n",
       "    </tr>\n",
       "    <tr>\n",
       "      <th>...</th>\n",
       "      <td>...</td>\n",
       "      <td>...</td>\n",
       "      <td>...</td>\n",
       "      <td>...</td>\n",
       "      <td>...</td>\n",
       "      <td>...</td>\n",
       "      <td>...</td>\n",
       "      <td>...</td>\n",
       "      <td>...</td>\n",
       "      <td>...</td>\n",
       "      <td>...</td>\n",
       "      <td>...</td>\n",
       "      <td>...</td>\n",
       "      <td>...</td>\n",
       "      <td>...</td>\n",
       "      <td>...</td>\n",
       "      <td>...</td>\n",
       "      <td>...</td>\n",
       "      <td>...</td>\n",
       "      <td>...</td>\n",
       "      <td>...</td>\n",
       "    </tr>\n",
       "    <tr>\n",
       "      <th>2010131</th>\n",
       "      <td>188.00</td>\n",
       "      <td>1.0</td>\n",
       "      <td>188.99</td>\n",
       "      <td>1000.0</td>\n",
       "      <td>175.00</td>\n",
       "      <td>50.0</td>\n",
       "      <td>195.00</td>\n",
       "      <td>2600.0</td>\n",
       "      <td>NaN</td>\n",
       "      <td>NaN</td>\n",
       "      <td>...</td>\n",
       "      <td>NaN</td>\n",
       "      <td>NaN</td>\n",
       "      <td>NaN</td>\n",
       "      <td>NaN</td>\n",
       "      <td>NaN</td>\n",
       "      <td>NaN</td>\n",
       "      <td>NaN</td>\n",
       "      <td>NaN</td>\n",
       "      <td>NaN</td>\n",
       "      <td>NaN</td>\n",
       "    </tr>\n",
       "    <tr>\n",
       "      <th>2010132</th>\n",
       "      <td>175.00</td>\n",
       "      <td>50.0</td>\n",
       "      <td>188.99</td>\n",
       "      <td>1000.0</td>\n",
       "      <td>NaN</td>\n",
       "      <td>NaN</td>\n",
       "      <td>195.00</td>\n",
       "      <td>2600.0</td>\n",
       "      <td>NaN</td>\n",
       "      <td>NaN</td>\n",
       "      <td>...</td>\n",
       "      <td>NaN</td>\n",
       "      <td>NaN</td>\n",
       "      <td>NaN</td>\n",
       "      <td>NaN</td>\n",
       "      <td>NaN</td>\n",
       "      <td>NaN</td>\n",
       "      <td>NaN</td>\n",
       "      <td>NaN</td>\n",
       "      <td>NaN</td>\n",
       "      <td>NaN</td>\n",
       "    </tr>\n",
       "    <tr>\n",
       "      <th>2010133</th>\n",
       "      <td>NaN</td>\n",
       "      <td>NaN</td>\n",
       "      <td>188.99</td>\n",
       "      <td>1000.0</td>\n",
       "      <td>NaN</td>\n",
       "      <td>NaN</td>\n",
       "      <td>195.00</td>\n",
       "      <td>2600.0</td>\n",
       "      <td>NaN</td>\n",
       "      <td>NaN</td>\n",
       "      <td>...</td>\n",
       "      <td>NaN</td>\n",
       "      <td>NaN</td>\n",
       "      <td>NaN</td>\n",
       "      <td>NaN</td>\n",
       "      <td>NaN</td>\n",
       "      <td>NaN</td>\n",
       "      <td>NaN</td>\n",
       "      <td>NaN</td>\n",
       "      <td>NaN</td>\n",
       "      <td>NaN</td>\n",
       "    </tr>\n",
       "    <tr>\n",
       "      <th>2010134</th>\n",
       "      <td>NaN</td>\n",
       "      <td>NaN</td>\n",
       "      <td>188.99</td>\n",
       "      <td>1000.0</td>\n",
       "      <td>NaN</td>\n",
       "      <td>NaN</td>\n",
       "      <td>NaN</td>\n",
       "      <td>NaN</td>\n",
       "      <td>NaN</td>\n",
       "      <td>NaN</td>\n",
       "      <td>...</td>\n",
       "      <td>NaN</td>\n",
       "      <td>NaN</td>\n",
       "      <td>NaN</td>\n",
       "      <td>NaN</td>\n",
       "      <td>NaN</td>\n",
       "      <td>NaN</td>\n",
       "      <td>NaN</td>\n",
       "      <td>NaN</td>\n",
       "      <td>NaN</td>\n",
       "      <td>NaN</td>\n",
       "    </tr>\n",
       "    <tr>\n",
       "      <th>2010135</th>\n",
       "      <td>NaN</td>\n",
       "      <td>NaN</td>\n",
       "      <td>NaN</td>\n",
       "      <td>NaN</td>\n",
       "      <td>NaN</td>\n",
       "      <td>NaN</td>\n",
       "      <td>NaN</td>\n",
       "      <td>NaN</td>\n",
       "      <td>NaN</td>\n",
       "      <td>NaN</td>\n",
       "      <td>...</td>\n",
       "      <td>NaN</td>\n",
       "      <td>NaN</td>\n",
       "      <td>NaN</td>\n",
       "      <td>NaN</td>\n",
       "      <td>NaN</td>\n",
       "      <td>NaN</td>\n",
       "      <td>NaN</td>\n",
       "      <td>NaN</td>\n",
       "      <td>NaN</td>\n",
       "      <td>NaN</td>\n",
       "    </tr>\n",
       "  </tbody>\n",
       "</table>\n",
       "<p>2003141 rows × 80 columns</p>\n",
       "</div>"
      ],
      "text/plain": [
       "         1_bid_price  1_bid_vol  1_ask_price  1_ask_vol  2_bid_price  \\\n",
       "0                NaN        NaN       207.85       18.0          NaN   \n",
       "1             129.33      100.0       207.85       18.0          NaN   \n",
       "2             129.33      100.0       207.85       18.0       114.94   \n",
       "3             129.33      100.0       207.85       18.0       114.94   \n",
       "4             129.33      100.0       192.70      300.0       114.94   \n",
       "...              ...        ...          ...        ...          ...   \n",
       "2010131       188.00        1.0       188.99     1000.0       175.00   \n",
       "2010132       175.00       50.0       188.99     1000.0          NaN   \n",
       "2010133          NaN        NaN       188.99     1000.0          NaN   \n",
       "2010134          NaN        NaN       188.99     1000.0          NaN   \n",
       "2010135          NaN        NaN          NaN        NaN          NaN   \n",
       "\n",
       "         2_bid_vol  2_ask_price  2_ask_vol  3_bid_price  3_bid_vol  ...  \\\n",
       "0              NaN          NaN        NaN          NaN        NaN  ...   \n",
       "1              NaN          NaN        NaN          NaN        NaN  ...   \n",
       "2              1.0          NaN        NaN          NaN        NaN  ...   \n",
       "3              1.0          NaN        NaN        98.39        1.0  ...   \n",
       "4              1.0       207.85       18.0        98.39        1.0  ...   \n",
       "...            ...          ...        ...          ...        ...  ...   \n",
       "2010131       50.0       195.00     2600.0          NaN        NaN  ...   \n",
       "2010132        NaN       195.00     2600.0          NaN        NaN  ...   \n",
       "2010133        NaN       195.00     2600.0          NaN        NaN  ...   \n",
       "2010134        NaN          NaN        NaN          NaN        NaN  ...   \n",
       "2010135        NaN          NaN        NaN          NaN        NaN  ...   \n",
       "\n",
       "         18_ask_price  18_ask_vol  19_bid_price  19_bid_vol  19_ask_price  \\\n",
       "0                 NaN         NaN           NaN         NaN           NaN   \n",
       "1                 NaN         NaN           NaN         NaN           NaN   \n",
       "2                 NaN         NaN           NaN         NaN           NaN   \n",
       "3                 NaN         NaN           NaN         NaN           NaN   \n",
       "4                 NaN         NaN           NaN         NaN           NaN   \n",
       "...               ...         ...           ...         ...           ...   \n",
       "2010131           NaN         NaN           NaN         NaN           NaN   \n",
       "2010132           NaN         NaN           NaN         NaN           NaN   \n",
       "2010133           NaN         NaN           NaN         NaN           NaN   \n",
       "2010134           NaN         NaN           NaN         NaN           NaN   \n",
       "2010135           NaN         NaN           NaN         NaN           NaN   \n",
       "\n",
       "         19_ask_vol  20_bid_price  20_bid_vol  20_ask_price  20_ask_vol  \n",
       "0               NaN           NaN         NaN           NaN         NaN  \n",
       "1               NaN           NaN         NaN           NaN         NaN  \n",
       "2               NaN           NaN         NaN           NaN         NaN  \n",
       "3               NaN           NaN         NaN           NaN         NaN  \n",
       "4               NaN           NaN         NaN           NaN         NaN  \n",
       "...             ...           ...         ...           ...         ...  \n",
       "2010131         NaN           NaN         NaN           NaN         NaN  \n",
       "2010132         NaN           NaN         NaN           NaN         NaN  \n",
       "2010133         NaN           NaN         NaN           NaN         NaN  \n",
       "2010134         NaN           NaN         NaN           NaN         NaN  \n",
       "2010135         NaN           NaN         NaN           NaN         NaN  \n",
       "\n",
       "[2003141 rows x 80 columns]"
      ]
     },
     "execution_count": 88,
     "metadata": {},
     "output_type": "execute_result"
    }
   ],
   "source": [
    "# load ITCH data\n",
    "for m_f, b_f in tqdm(zip(itch_message_files, itch_book_files)):\n",
    "    if '03272019' not in m_f:\n",
    "        continue\n",
    "    \n",
    "    itch_messages = itch_preproc.load_message_df(m_f)\n",
    "\n",
    "    itch_book = pd.read_csv(\n",
    "        b_f,\n",
    "        # index_col=False,\n",
    "        # header=None\n",
    "    )\n",
    "    assert len(itch_messages) == len(itch_book)\n",
    "\n",
    "    print(\"ITCH messages shape:\", itch_messages.shape)\n",
    "    print(\"ITCH book shape:\", itch_book.shape)\n",
    "\n",
    "# remove pre-market and after-market hours from ITCH data\n",
    "if remove_premarket:\n",
    "    itch_messages = itch_messages[itch_messages['time'] >= 34200000000000]\n",
    "if remove_aftermarket:\n",
    "    itch_messages = itch_messages[itch_messages['time'] <= 57600000000000]\n",
    "\n",
    "print(\"ITCH messages shape 2:\", itch_messages.shape)\n",
    "print(\"ITCH book shape 2:\", itch_book.shape)\n",
    "\n",
    "# remove disallowed order types\n",
    "allowed_events=['A','E','C','D','R']\n",
    "itch_messages = itch_messages.loc[itch_messages.type.isin(allowed_events)]\n",
    "# make sure book is same length as messages\n",
    "itch_book = itch_book.loc[itch_messages.index]\n",
    "\n",
    "print(\"ITCH messages shape 3:\", itch_messages.shape)\n",
    "print(\"ITCH book shape 3:\", itch_book.shape)\n",
    "\n",
    "# # filter messages that are above a certain level\n",
    "# filter_above_lvl = 20\n",
    "# itch_messages, itch_book = itch_preproc.filter_by_lvl(itch_messages, itch_book, filter_above_lvl)\n",
    "\n",
    "print(\"ITCH messages shape 4:\", itch_messages.shape)\n",
    "print(\"ITCH book shape 4:\", itch_book.shape)\n",
    "\n",
    "# remove time field from ITCH book data\n",
    "itch_book = itch_book.drop(columns=['time'])\n",
    "\n",
    "assert len(itch_messages) == len(itch_book)\n",
    "itch_book"
   ]
  },
  {
   "cell_type": "code",
   "execution_count": 16,
   "metadata": {},
   "outputs": [],
   "source": [
    "# itch_messages\n",
    "# lobster_book"
   ]
  },
  {
   "cell_type": "code",
   "execution_count": null,
   "metadata": {},
   "outputs": [],
   "source": [
    "# # process book\n",
    "# price_levels = 500 # n_price_series\n",
    "\n",
    "# # mid-price rounded to nearest tick (100)\n",
    "# p_ref = ((lobster_book.iloc[:, 0] + lobster_book.iloc[:, 2]) / 2).round(-2).astype(int)\n",
    "# b_indices = lobster_book.iloc[:, ::2].sub(p_ref, axis=0).div(100).astype(int) # div 100 bc tick\n",
    "# b_indices = b_indices + price_levels // 2 # make fit between span of 0 to price_levels\n",
    "# b_indices.columns = list(range(b_indices.shape[1])) # reset col indices\n",
    "# vol_book = lobster_book.iloc[:, 1::2].copy()\n",
    "# # convert sell volumes (ask side) to negative\n",
    "# vol_book.iloc[:, ::2] = vol_book.iloc[:, ::2].mul(-1)\n",
    "# vol_book.columns = list(range(vol_book.shape[1])) # reset col indices\n",
    "\n",
    "# # convert to book representation with volume at each price level relative to reference price (mid)\n",
    "# # whilst preserving empty levels to maintain sparse representation of book\n",
    "# # i.e. at each time we have a fixed width snapshot around the mid price\n",
    "# # therefore movement of the mid price needs to be a separate feature (e.g. relative to previous price)\n",
    "\n",
    "# mybook = np.zeros((len(lobster_book), price_levels), dtype=np.int32)\n",
    "\n",
    "# a = b_indices.values\n",
    "# for i in range(a.shape[0]):\n",
    "#     for j in range(a.shape[1]):\n",
    "#         price = a[i, j]\n",
    "#         # remove prices outside of price_levels range\n",
    "#         if price >= 0 and price < price_levels:\n",
    "#             mybook[i, price] = vol_book.values[i, j]\n",
    "\n",
    "# # prepend column with best bid changes (in ticks)\n",
    "# mid_diff = p_ref.div(100).diff().fillna(0).astype(int).values\n",
    "# mybook = np.concatenate([mid_diff[:, None], mybook], axis=1)\n",
    "\n",
    "# mybook"
   ]
  },
  {
   "cell_type": "code",
   "execution_count": 65,
   "metadata": {},
   "outputs": [
    {
     "data": {
      "text/html": [
       "<div>\n",
       "<style scoped>\n",
       "    .dataframe tbody tr th:only-of-type {\n",
       "        vertical-align: middle;\n",
       "    }\n",
       "\n",
       "    .dataframe tbody tr th {\n",
       "        vertical-align: top;\n",
       "    }\n",
       "\n",
       "    .dataframe thead th {\n",
       "        text-align: right;\n",
       "    }\n",
       "</style>\n",
       "<table border=\"1\" class=\"dataframe\">\n",
       "  <thead>\n",
       "    <tr style=\"text-align: right;\">\n",
       "      <th></th>\n",
       "      <th>1_bid_price</th>\n",
       "      <th>1_bid_vol</th>\n",
       "      <th>1_ask_price</th>\n",
       "      <th>1_ask_vol</th>\n",
       "      <th>2_bid_price</th>\n",
       "      <th>2_bid_vol</th>\n",
       "      <th>2_ask_price</th>\n",
       "      <th>2_ask_vol</th>\n",
       "      <th>3_bid_price</th>\n",
       "      <th>3_bid_vol</th>\n",
       "      <th>...</th>\n",
       "      <th>18_ask_price</th>\n",
       "      <th>18_ask_vol</th>\n",
       "      <th>19_bid_price</th>\n",
       "      <th>19_bid_vol</th>\n",
       "      <th>19_ask_price</th>\n",
       "      <th>19_ask_vol</th>\n",
       "      <th>20_bid_price</th>\n",
       "      <th>20_bid_vol</th>\n",
       "      <th>20_ask_price</th>\n",
       "      <th>20_ask_vol</th>\n",
       "    </tr>\n",
       "  </thead>\n",
       "  <tbody>\n",
       "    <tr>\n",
       "      <th>0</th>\n",
       "      <td>NaN</td>\n",
       "      <td>NaN</td>\n",
       "      <td>207.85</td>\n",
       "      <td>18.0</td>\n",
       "      <td>NaN</td>\n",
       "      <td>NaN</td>\n",
       "      <td>NaN</td>\n",
       "      <td>NaN</td>\n",
       "      <td>NaN</td>\n",
       "      <td>NaN</td>\n",
       "      <td>...</td>\n",
       "      <td>NaN</td>\n",
       "      <td>NaN</td>\n",
       "      <td>NaN</td>\n",
       "      <td>NaN</td>\n",
       "      <td>NaN</td>\n",
       "      <td>NaN</td>\n",
       "      <td>NaN</td>\n",
       "      <td>NaN</td>\n",
       "      <td>NaN</td>\n",
       "      <td>NaN</td>\n",
       "    </tr>\n",
       "    <tr>\n",
       "      <th>1</th>\n",
       "      <td>129.33</td>\n",
       "      <td>100.0</td>\n",
       "      <td>207.85</td>\n",
       "      <td>18.0</td>\n",
       "      <td>NaN</td>\n",
       "      <td>NaN</td>\n",
       "      <td>NaN</td>\n",
       "      <td>NaN</td>\n",
       "      <td>NaN</td>\n",
       "      <td>NaN</td>\n",
       "      <td>...</td>\n",
       "      <td>NaN</td>\n",
       "      <td>NaN</td>\n",
       "      <td>NaN</td>\n",
       "      <td>NaN</td>\n",
       "      <td>NaN</td>\n",
       "      <td>NaN</td>\n",
       "      <td>NaN</td>\n",
       "      <td>NaN</td>\n",
       "      <td>NaN</td>\n",
       "      <td>NaN</td>\n",
       "    </tr>\n",
       "    <tr>\n",
       "      <th>2</th>\n",
       "      <td>129.33</td>\n",
       "      <td>100.0</td>\n",
       "      <td>207.85</td>\n",
       "      <td>18.0</td>\n",
       "      <td>114.94</td>\n",
       "      <td>1.0</td>\n",
       "      <td>NaN</td>\n",
       "      <td>NaN</td>\n",
       "      <td>NaN</td>\n",
       "      <td>NaN</td>\n",
       "      <td>...</td>\n",
       "      <td>NaN</td>\n",
       "      <td>NaN</td>\n",
       "      <td>NaN</td>\n",
       "      <td>NaN</td>\n",
       "      <td>NaN</td>\n",
       "      <td>NaN</td>\n",
       "      <td>NaN</td>\n",
       "      <td>NaN</td>\n",
       "      <td>NaN</td>\n",
       "      <td>NaN</td>\n",
       "    </tr>\n",
       "    <tr>\n",
       "      <th>3</th>\n",
       "      <td>129.33</td>\n",
       "      <td>100.0</td>\n",
       "      <td>207.85</td>\n",
       "      <td>18.0</td>\n",
       "      <td>114.94</td>\n",
       "      <td>1.0</td>\n",
       "      <td>NaN</td>\n",
       "      <td>NaN</td>\n",
       "      <td>98.39</td>\n",
       "      <td>1.0</td>\n",
       "      <td>...</td>\n",
       "      <td>NaN</td>\n",
       "      <td>NaN</td>\n",
       "      <td>NaN</td>\n",
       "      <td>NaN</td>\n",
       "      <td>NaN</td>\n",
       "      <td>NaN</td>\n",
       "      <td>NaN</td>\n",
       "      <td>NaN</td>\n",
       "      <td>NaN</td>\n",
       "      <td>NaN</td>\n",
       "    </tr>\n",
       "    <tr>\n",
       "      <th>4</th>\n",
       "      <td>129.33</td>\n",
       "      <td>100.0</td>\n",
       "      <td>192.70</td>\n",
       "      <td>300.0</td>\n",
       "      <td>114.94</td>\n",
       "      <td>1.0</td>\n",
       "      <td>207.85</td>\n",
       "      <td>18.0</td>\n",
       "      <td>98.39</td>\n",
       "      <td>1.0</td>\n",
       "      <td>...</td>\n",
       "      <td>NaN</td>\n",
       "      <td>NaN</td>\n",
       "      <td>NaN</td>\n",
       "      <td>NaN</td>\n",
       "      <td>NaN</td>\n",
       "      <td>NaN</td>\n",
       "      <td>NaN</td>\n",
       "      <td>NaN</td>\n",
       "      <td>NaN</td>\n",
       "      <td>NaN</td>\n",
       "    </tr>\n",
       "    <tr>\n",
       "      <th>...</th>\n",
       "      <td>...</td>\n",
       "      <td>...</td>\n",
       "      <td>...</td>\n",
       "      <td>...</td>\n",
       "      <td>...</td>\n",
       "      <td>...</td>\n",
       "      <td>...</td>\n",
       "      <td>...</td>\n",
       "      <td>...</td>\n",
       "      <td>...</td>\n",
       "      <td>...</td>\n",
       "      <td>...</td>\n",
       "      <td>...</td>\n",
       "      <td>...</td>\n",
       "      <td>...</td>\n",
       "      <td>...</td>\n",
       "      <td>...</td>\n",
       "      <td>...</td>\n",
       "      <td>...</td>\n",
       "      <td>...</td>\n",
       "      <td>...</td>\n",
       "    </tr>\n",
       "    <tr>\n",
       "      <th>2010131</th>\n",
       "      <td>188.00</td>\n",
       "      <td>1.0</td>\n",
       "      <td>188.99</td>\n",
       "      <td>1000.0</td>\n",
       "      <td>175.00</td>\n",
       "      <td>50.0</td>\n",
       "      <td>195.00</td>\n",
       "      <td>2600.0</td>\n",
       "      <td>NaN</td>\n",
       "      <td>NaN</td>\n",
       "      <td>...</td>\n",
       "      <td>NaN</td>\n",
       "      <td>NaN</td>\n",
       "      <td>NaN</td>\n",
       "      <td>NaN</td>\n",
       "      <td>NaN</td>\n",
       "      <td>NaN</td>\n",
       "      <td>NaN</td>\n",
       "      <td>NaN</td>\n",
       "      <td>NaN</td>\n",
       "      <td>NaN</td>\n",
       "    </tr>\n",
       "    <tr>\n",
       "      <th>2010132</th>\n",
       "      <td>175.00</td>\n",
       "      <td>50.0</td>\n",
       "      <td>188.99</td>\n",
       "      <td>1000.0</td>\n",
       "      <td>NaN</td>\n",
       "      <td>NaN</td>\n",
       "      <td>195.00</td>\n",
       "      <td>2600.0</td>\n",
       "      <td>NaN</td>\n",
       "      <td>NaN</td>\n",
       "      <td>...</td>\n",
       "      <td>NaN</td>\n",
       "      <td>NaN</td>\n",
       "      <td>NaN</td>\n",
       "      <td>NaN</td>\n",
       "      <td>NaN</td>\n",
       "      <td>NaN</td>\n",
       "      <td>NaN</td>\n",
       "      <td>NaN</td>\n",
       "      <td>NaN</td>\n",
       "      <td>NaN</td>\n",
       "    </tr>\n",
       "    <tr>\n",
       "      <th>2010133</th>\n",
       "      <td>NaN</td>\n",
       "      <td>NaN</td>\n",
       "      <td>188.99</td>\n",
       "      <td>1000.0</td>\n",
       "      <td>NaN</td>\n",
       "      <td>NaN</td>\n",
       "      <td>195.00</td>\n",
       "      <td>2600.0</td>\n",
       "      <td>NaN</td>\n",
       "      <td>NaN</td>\n",
       "      <td>...</td>\n",
       "      <td>NaN</td>\n",
       "      <td>NaN</td>\n",
       "      <td>NaN</td>\n",
       "      <td>NaN</td>\n",
       "      <td>NaN</td>\n",
       "      <td>NaN</td>\n",
       "      <td>NaN</td>\n",
       "      <td>NaN</td>\n",
       "      <td>NaN</td>\n",
       "      <td>NaN</td>\n",
       "    </tr>\n",
       "    <tr>\n",
       "      <th>2010134</th>\n",
       "      <td>NaN</td>\n",
       "      <td>NaN</td>\n",
       "      <td>188.99</td>\n",
       "      <td>1000.0</td>\n",
       "      <td>NaN</td>\n",
       "      <td>NaN</td>\n",
       "      <td>NaN</td>\n",
       "      <td>NaN</td>\n",
       "      <td>NaN</td>\n",
       "      <td>NaN</td>\n",
       "      <td>...</td>\n",
       "      <td>NaN</td>\n",
       "      <td>NaN</td>\n",
       "      <td>NaN</td>\n",
       "      <td>NaN</td>\n",
       "      <td>NaN</td>\n",
       "      <td>NaN</td>\n",
       "      <td>NaN</td>\n",
       "      <td>NaN</td>\n",
       "      <td>NaN</td>\n",
       "      <td>NaN</td>\n",
       "    </tr>\n",
       "    <tr>\n",
       "      <th>2010135</th>\n",
       "      <td>NaN</td>\n",
       "      <td>NaN</td>\n",
       "      <td>NaN</td>\n",
       "      <td>NaN</td>\n",
       "      <td>NaN</td>\n",
       "      <td>NaN</td>\n",
       "      <td>NaN</td>\n",
       "      <td>NaN</td>\n",
       "      <td>NaN</td>\n",
       "      <td>NaN</td>\n",
       "      <td>...</td>\n",
       "      <td>NaN</td>\n",
       "      <td>NaN</td>\n",
       "      <td>NaN</td>\n",
       "      <td>NaN</td>\n",
       "      <td>NaN</td>\n",
       "      <td>NaN</td>\n",
       "      <td>NaN</td>\n",
       "      <td>NaN</td>\n",
       "      <td>NaN</td>\n",
       "      <td>NaN</td>\n",
       "    </tr>\n",
       "  </tbody>\n",
       "</table>\n",
       "<p>2003141 rows × 80 columns</p>\n",
       "</div>"
      ],
      "text/plain": [
       "         1_bid_price  1_bid_vol  1_ask_price  1_ask_vol  2_bid_price  \\\n",
       "0                NaN        NaN       207.85       18.0          NaN   \n",
       "1             129.33      100.0       207.85       18.0          NaN   \n",
       "2             129.33      100.0       207.85       18.0       114.94   \n",
       "3             129.33      100.0       207.85       18.0       114.94   \n",
       "4             129.33      100.0       192.70      300.0       114.94   \n",
       "...              ...        ...          ...        ...          ...   \n",
       "2010131       188.00        1.0       188.99     1000.0       175.00   \n",
       "2010132       175.00       50.0       188.99     1000.0          NaN   \n",
       "2010133          NaN        NaN       188.99     1000.0          NaN   \n",
       "2010134          NaN        NaN       188.99     1000.0          NaN   \n",
       "2010135          NaN        NaN          NaN        NaN          NaN   \n",
       "\n",
       "         2_bid_vol  2_ask_price  2_ask_vol  3_bid_price  3_bid_vol  ...  \\\n",
       "0              NaN          NaN        NaN          NaN        NaN  ...   \n",
       "1              NaN          NaN        NaN          NaN        NaN  ...   \n",
       "2              1.0          NaN        NaN          NaN        NaN  ...   \n",
       "3              1.0          NaN        NaN        98.39        1.0  ...   \n",
       "4              1.0       207.85       18.0        98.39        1.0  ...   \n",
       "...            ...          ...        ...          ...        ...  ...   \n",
       "2010131       50.0       195.00     2600.0          NaN        NaN  ...   \n",
       "2010132        NaN       195.00     2600.0          NaN        NaN  ...   \n",
       "2010133        NaN       195.00     2600.0          NaN        NaN  ...   \n",
       "2010134        NaN          NaN        NaN          NaN        NaN  ...   \n",
       "2010135        NaN          NaN        NaN          NaN        NaN  ...   \n",
       "\n",
       "         18_ask_price  18_ask_vol  19_bid_price  19_bid_vol  19_ask_price  \\\n",
       "0                 NaN         NaN           NaN         NaN           NaN   \n",
       "1                 NaN         NaN           NaN         NaN           NaN   \n",
       "2                 NaN         NaN           NaN         NaN           NaN   \n",
       "3                 NaN         NaN           NaN         NaN           NaN   \n",
       "4                 NaN         NaN           NaN         NaN           NaN   \n",
       "...               ...         ...           ...         ...           ...   \n",
       "2010131           NaN         NaN           NaN         NaN           NaN   \n",
       "2010132           NaN         NaN           NaN         NaN           NaN   \n",
       "2010133           NaN         NaN           NaN         NaN           NaN   \n",
       "2010134           NaN         NaN           NaN         NaN           NaN   \n",
       "2010135           NaN         NaN           NaN         NaN           NaN   \n",
       "\n",
       "         19_ask_vol  20_bid_price  20_bid_vol  20_ask_price  20_ask_vol  \n",
       "0               NaN           NaN         NaN           NaN         NaN  \n",
       "1               NaN           NaN         NaN           NaN         NaN  \n",
       "2               NaN           NaN         NaN           NaN         NaN  \n",
       "3               NaN           NaN         NaN           NaN         NaN  \n",
       "4               NaN           NaN         NaN           NaN         NaN  \n",
       "...             ...           ...         ...           ...         ...  \n",
       "2010131         NaN           NaN         NaN           NaN         NaN  \n",
       "2010132         NaN           NaN         NaN           NaN         NaN  \n",
       "2010133         NaN           NaN         NaN           NaN         NaN  \n",
       "2010134         NaN           NaN         NaN           NaN         NaN  \n",
       "2010135         NaN           NaN         NaN           NaN         NaN  \n",
       "\n",
       "[2003141 rows x 80 columns]"
      ]
     },
     "execution_count": 65,
     "metadata": {},
     "output_type": "execute_result"
    }
   ],
   "source": [
    "itch_messages\n",
    "itch_book"
   ]
  },
  {
   "cell_type": "code",
   "execution_count": 2,
   "metadata": {},
   "outputs": [],
   "source": [
    "# # process book\n",
    "# price_levels = 500 # n_price_series\n",
    "\n",
    "# # mid-price rounded to nearest tick\n",
    "# # p_ref = ((itch_book.iloc[:, 0] + itch_book.iloc[:, 2]) / 2).mul(100).round().astype(int)\n",
    "# p_ref = ((itch_book.iloc[:, 0] + itch_book.iloc[:, 2]) / 2)\n",
    "# # determine if NaN is present\n",
    "# if p_ref.isnull().values.any():\n",
    "#     print('NaN detected. Replacing with best existing bid or ask price.')\n",
    "#     # replace mid-price with best existing bid or ask price\n",
    "#     p_ref = p_ref.fillna(itch_book.iloc[:, 0].combine_first(itch_book.iloc[:, 2]))\n",
    "#     # replace any remaining NaNs with previous value\n",
    "#     if p_ref.isnull().values.any():\n",
    "#         print('More NaN detected. Replacing with previous value.')\n",
    "#         p_ref = p_ref.ffill()\n",
    "# p_ref = p_ref.mul(100).round().astype(int) # format; round to nearest tick\n",
    "# # how far are bid and ask from mid price?\n",
    "# b_indices = itch_book.iloc[:, ::2].mul(100).fillna(0).sub(p_ref, axis=0).astype(int)\n",
    "# b_indices = b_indices + price_levels // 2 # valid tick differences will fit between span of 0 to price_levels\n",
    "# b_indices.columns = list(range(b_indices.shape[1])) # reset col indices\n",
    "# vol_book = itch_book.iloc[:, 1::2].copy().fillna(0).astype(int)\n",
    "# # convert sell volumes (ask side) to negative\n",
    "# vol_book.iloc[:, 1::2] = vol_book.iloc[:, 1::2].mul(-1)\n",
    "# vol_book.columns = list(range(vol_book.shape[1])) # reset col indices\n",
    "\n",
    "# # convert to book representation with volume at each price level relative to reference price (mid)\n",
    "# # whilst preserving empty levels to maintain sparse representation of book\n",
    "# # i.e. at each time we have a fixed width snapshot around the mid price\n",
    "# # therefore movement of the mid price needs to be a separate feature (e.g. relative to previous price)\n",
    "\n",
    "# mybook = np.zeros((len(itch_book), price_levels), dtype=np.int32)\n",
    "\n",
    "# a = b_indices.values\n",
    "# for i in range(a.shape[0]):\n",
    "#     for j in range(a.shape[1]):\n",
    "#         price = a[i, j]\n",
    "#         # remove prices outside of price_levels range\n",
    "#         if price >= 0 and price < price_levels:\n",
    "#             mybook[i, price] = vol_book.values[i, j]\n",
    "\n",
    "# # prepend column with best bid changes (in ticks)\n",
    "# mid_diff = p_ref.diff().fillna(0).astype(int).values\n",
    "# mybook = np.concatenate([mid_diff[:, None], mybook], axis=1)\n",
    "\n",
    "# mybook"
   ]
  },
  {
   "cell_type": "code",
   "execution_count": 89,
   "metadata": {},
   "outputs": [
    {
     "name": "stdout",
     "output_type": "stream",
     "text": [
      "NaN detected. Replacing with best existing bid or ask price.\n",
      "More NaN detected. Replacing with previous value.\n"
     ]
    },
    {
     "data": {
      "text/plain": [
       "array([[    0,     0,     0, ...,     0,     0,     0],\n",
       "       [-3926,     0,     0, ...,     0,     0,     0],\n",
       "       [    0,     0,     0, ...,     0,     0,     0],\n",
       "       ...,\n",
       "       [  699,     0,     0, ...,     0,     0,     0],\n",
       "       [    0,     0,     0, ...,     0,     0,     0],\n",
       "       [    0,     0,     0, ...,     0,     0,     0]])"
      ]
     },
     "execution_count": 89,
     "metadata": {},
     "output_type": "execute_result"
    }
   ],
   "source": [
    "mybook = itch_preproc.process_book(itch_book, price_levels=500)\n",
    "mybook"
   ]
  },
  {
   "cell_type": "code",
   "execution_count": 19,
   "metadata": {},
   "outputs": [
    {
     "name": "stdout",
     "output_type": "stream",
     "text": [
      "(1720464, 501)\n"
     ]
    },
    {
     "data": {
      "text/plain": [
       "array([[40,  0,  0, ...,  0,  0,  0],\n",
       "       [40, -8,  0, ...,  0,  0,  0],\n",
       "       [40, -2,  0, ...,  0,  0,  0],\n",
       "       ...,\n",
       "       [40,  0,  0, ...,  0,  0,  0],\n",
       "       [40,  0,  0, ...,  0,  0,  0],\n",
       "       [40,  1,  0, ...,  0,  0,  0]])"
      ]
     },
     "execution_count": 19,
     "metadata": {},
     "output_type": "execute_result"
    }
   ],
   "source": [
    "print(mybook.shape)\n",
    "\n",
    "# prepend column with ticker ID\n",
    "ticker_id = d[ticker]\n",
    "mybook = np.concatenate([np.full((mybook.shape[0], 1), ticker_id), mybook], axis=1)\n",
    "mybook"
   ]
  },
  {
   "cell_type": "markdown",
   "metadata": {},
   "source": [
    "### Advanced Dataloading"
   ]
  },
  {
   "cell_type": "markdown",
   "metadata": {},
   "source": [
    "##### LOBSTER Dataloading"
   ]
  },
  {
   "cell_type": "code",
   "execution_count": 1,
   "metadata": {},
   "outputs": [],
   "source": [
    "# # Set params...\n",
    "# msg_seq_len = 500\n",
    "# use_book_data = True # False\n",
    "# # use_simple_book = False\n",
    "# # book_transform = True # False\n",
    "\n",
    "# data_dir = parent_folder_path + '/dataset/proc/LOBSTER/'\n",
    "# name = 'lobster'\n",
    "\n",
    "# dataset_obj = lobster_dataloader.LOBSTER(\n",
    "#     name,\n",
    "#     data_dir=data_dir,\n",
    "#     mask_fn=lobster_dataloader.LOBSTER_Dataset.causal_mask,\n",
    "#     msg_seq_len=msg_seq_len,\n",
    "#     use_book_data=use_book_data,\n",
    "#     # use_simple_book=use_simple_book,\n",
    "#     # book_transform=book_transform,\n",
    "#     # book_depth=book_depth,\n",
    "#     # n_cache_files=1e7,  # large number to keep everything in cache\n",
    "#     # return_raw_msgs=return_raw_msgs,\n",
    "# )\n",
    "# dataset_obj.setup()"
   ]
  },
  {
   "cell_type": "code",
   "execution_count": 2,
   "metadata": {},
   "outputs": [],
   "source": [
    "# vars(dataset_obj)"
   ]
  },
  {
   "cell_type": "code",
   "execution_count": 3,
   "metadata": {},
   "outputs": [],
   "source": [
    "# from equities.data_processing.base import make_data_loader\n",
    "\n",
    "# bsz = 16\n",
    "# # use sampler to only get individual samples and automatic batching from dataloader\n",
    "# trn_loader = make_data_loader(\n",
    "#     dataset_obj.dataset_train,\n",
    "#     dataset_obj,\n",
    "#     seed=dataset_obj.seed,\n",
    "#     batch_size=bsz)\n",
    "\n",
    "# trn_loader"
   ]
  },
  {
   "cell_type": "code",
   "execution_count": 4,
   "metadata": {},
   "outputs": [],
   "source": [
    "# # loop over batches...\n",
    "# for batch_idx, batch in enumerate(tqdm(trn_loader)):\n",
    "#     print(\"batch_idx:\", batch_idx)\n",
    "#     # print(\"batch:\", batch)\n",
    "#     print(\"len(batch):\", len(batch))\n",
    "#     inputs, targets, aux_data = batch\n",
    "#     book_data = aux_data.get(\"book_data\", None)\n",
    "#     timestep_msg = aux_data.get(\"timesteps_msg\", None) # None\n",
    "#     timestep_book = aux_data.get(\"timesteps_book\", None) # None\n",
    "#     print(\"inputs.shape:\", inputs.shape) # (bsz, 22*seq_len)\n",
    "#     print(\"targets.shape:\", targets.shape) # (bsz, 1)\n",
    "#     print(\"book_data.shape:\", book_data.shape) # (bsz, seq_len, 𝑃 + 1)\n",
    "#     print(\"inputs:\", inputs) # 22 tokens per message\n",
    "#     print(\"targets:\", targets) # prediction target is masked token?\n",
    "\n",
    "#     # 𝑃 separate volume features around the mid-price, coupled with one feature\n",
    "#     # representing mid-price changes from the previous observation.\n",
    "#     print(\"book_data:\", book_data) # book snapshots or \"volume images\"\n",
    "\n",
    "#     break"
   ]
  },
  {
   "cell_type": "code",
   "execution_count": 5,
   "metadata": {},
   "outputs": [],
   "source": [
    "# vocab = lobster_encoding.Vocab()\n",
    "# vocab.ENCODING\n",
    "\n",
    "# for i in inputs[0][0:22]:\n",
    "#     print(i)\n",
    "# inputs[0][0:22]\n",
    "# print(lobster_encoding.decode_msg(inputs[0][0:22], vocab.ENCODING))"
   ]
  },
  {
   "cell_type": "code",
   "execution_count": 6,
   "metadata": {},
   "outputs": [],
   "source": [
    "# lobster_tok = lobster_encoding.Message_Tokenizer()\n",
    "\n",
    "# vars(lobster_tok)\n",
    "\n",
    "# lobster_tok.FIELD_I"
   ]
  },
  {
   "cell_type": "code",
   "execution_count": 7,
   "metadata": {},
   "outputs": [],
   "source": [
    "# X = np.load(dataset_obj.train_files[0], mmap_mode='r')\n",
    "# X_raw = np.array(X[0:500])\n",
    "# print(X_raw.shape)\n",
    "\n",
    "# X_raw\n",
    "\n",
    "# X = lobster_encoding.encode_msgs(X_raw, vocab.ENCODING)\n",
    "\n",
    "# X\n",
    "\n",
    "# # seq = X_raw.copy()\n",
    "# seq = X.copy()\n",
    "\n",
    "# y = seq[-1][11]\n",
    "# y\n",
    "\n",
    "# seq[-1][11] = -10000\n",
    "\n",
    "# seq\n",
    "\n",
    "# y = y.reshape(-1)\n",
    "# X = X.reshape(-1)\n",
    "# X"
   ]
  },
  {
   "cell_type": "markdown",
   "metadata": {},
   "source": [
    "##### ITCH Dataloading"
   ]
  },
  {
   "cell_type": "code",
   "execution_count": 1,
   "metadata": {},
   "outputs": [],
   "source": [
    "# Set params...\n",
    "msg_seq_len = 500\n",
    "use_book_data = True # False\n",
    "# use_simple_book = False\n",
    "# book_transform = True # False\n",
    "\n",
    "data_dir = parent_folder_path + '/dataset/proc/ITCH/'\n",
    "name = 'itch'\n",
    "\n",
    "dataset_obj = itch_dataloader.ITCH(\n",
    "    name,\n",
    "    data_dir=data_dir,\n",
    "    mask_fn=itch_dataloader.ITCH_Dataset.causal_mask,\n",
    "    msg_seq_len=msg_seq_len,\n",
    "    use_book_data=use_book_data,\n",
    "    # use_simple_book=use_simple_book,\n",
    "    # book_transform=book_transform,\n",
    "    # book_depth=book_depth,\n",
    "    # n_cache_files=1e7,  # large number to keep everything in cache\n",
    "    # return_raw_msgs=return_raw_msgs,\n",
    ")\n",
    "dataset_obj.setup()\n",
    "\n",
    "vars(dataset_obj)"
   ]
  },
  {
   "cell_type": "code",
   "execution_count": 5,
   "metadata": {},
   "outputs": [
    {
     "data": {
      "text/plain": [
       "<torch.utils.data.dataloader.DataLoader at 0x7f1cb98dbb60>"
      ]
     },
     "execution_count": 5,
     "metadata": {},
     "output_type": "execute_result"
    }
   ],
   "source": [
    "from equities.data_processing.base import make_data_loader\n",
    "\n",
    "bsz = 16\n",
    "# use sampler to only get individual samples and automatic batching from dataloader\n",
    "trn_loader = make_data_loader(\n",
    "    dataset_obj.dataset_train,\n",
    "    dataset_obj,\n",
    "    seed=dataset_obj.seed,\n",
    "    batch_size=bsz)\n",
    "\n",
    "trn_loader"
   ]
  },
  {
   "cell_type": "code",
   "execution_count": 6,
   "metadata": {},
   "outputs": [
    {
     "name": "stderr",
     "output_type": "stream",
     "text": [
      "  0%|          | 0/244 [00:01<?, ?it/s]"
     ]
    },
    {
     "name": "stdout",
     "output_type": "stream",
     "text": [
      "batch_idx: 0\n",
      "len(batch): 3\n",
      "inputs.shape: (16, 12500)\n",
      "targets.shape: (16, 1)\n",
      "book_data.shape: (16, 500, 502)\n",
      "inputs: [[12051  1007 12011 ...   954   234     0]\n",
      " [12051  1006 12010 ...     2     0     1]\n",
      " [12051  1006 12011 ...     1     1     1]\n",
      " ...\n",
      " [12051  1003 12011 ...     1     1     1]\n",
      " [12051  1003 12010 ...     1     1     1]\n",
      " [12051  1007 12010 ...     1     1     1]]\n",
      "targets: [[  787]\n",
      " [    2]\n",
      " [ 1008]\n",
      " [    3]\n",
      " [    2]\n",
      " [11010]\n",
      " [12051]\n",
      " [    3]\n",
      " [12010]\n",
      " [    2]\n",
      " [    2]\n",
      " [11010]\n",
      " [  566]\n",
      " [12010]\n",
      " [12009]\n",
      " [ 1003]]\n",
      "book_data: [[[40  0  0 ...  0  0  0]\n",
      "  [40  0  0 ...  0  0  0]\n",
      "  [40  0  0 ...  0  0  0]\n",
      "  ...\n",
      "  [40  0  0 ...  0  0  0]\n",
      "  [40  0  0 ...  0  0  0]\n",
      "  [40  0  0 ...  0  0  0]]\n",
      "\n",
      " [[40  0  0 ...  0  0  0]\n",
      "  [40  0  0 ...  0  0  0]\n",
      "  [40  0  0 ...  0  0  0]\n",
      "  ...\n",
      "  [40  0  0 ...  0  0  0]\n",
      "  [40  0  0 ...  0  0  0]\n",
      "  [40  0  0 ...  0  0  0]]\n",
      "\n",
      " [[40  0  0 ...  0  0  0]\n",
      "  [40  0  0 ...  0  0  0]\n",
      "  [40  0  0 ...  0  0  0]\n",
      "  ...\n",
      "  [40  0  0 ...  0  0  0]\n",
      "  [40  0  0 ...  0  0  0]\n",
      "  [40  0  0 ...  0  0  0]]\n",
      "\n",
      " ...\n",
      "\n",
      " [[40  0  0 ...  0  0  0]\n",
      "  [40  0  0 ...  0  0  0]\n",
      "  [40  0  0 ...  0  0  0]\n",
      "  ...\n",
      "  [40  0  0 ...  0  0  0]\n",
      "  [40  0  0 ...  0  0  0]\n",
      "  [40  0  0 ...  0  0  0]]\n",
      "\n",
      " [[40  1  0 ...  0  0  0]\n",
      "  [40  0  0 ...  0  0  0]\n",
      "  [40  0  0 ...  0  0  0]\n",
      "  ...\n",
      "  [40  0  0 ...  0  0  0]\n",
      "  [40  0  0 ...  0  0  0]\n",
      "  [40  1  0 ...  0  0  0]]\n",
      "\n",
      " [[40  0  0 ...  0  0  0]\n",
      "  [40  0  0 ...  0  0  0]\n",
      "  [40  0  0 ...  0  0  0]\n",
      "  ...\n",
      "  [40  0  0 ...  0  0  0]\n",
      "  [40  0  0 ...  0  0  0]\n",
      "  [40  0  0 ...  0  0  0]]]\n"
     ]
    },
    {
     "name": "stderr",
     "output_type": "stream",
     "text": [
      "\n"
     ]
    }
   ],
   "source": [
    "# loop over batches...\n",
    "for batch_idx, batch in enumerate(tqdm(trn_loader)):\n",
    "    print(\"batch_idx:\", batch_idx)\n",
    "    # print(\"batch:\", batch)\n",
    "    print(\"len(batch):\", len(batch))\n",
    "    inputs, targets, aux_data = batch\n",
    "    book_data = aux_data.get(\"book_data\", None)\n",
    "    timestep_msg = aux_data.get(\"timesteps_msg\", None) # None\n",
    "    timestep_book = aux_data.get(\"timesteps_book\", None) # None\n",
    "    print(\"inputs.shape:\", inputs.shape) # (bsz, 25*seq_len)\n",
    "    print(\"targets.shape:\", targets.shape) # (bsz, 1)\n",
    "    print(\"book_data.shape:\", book_data.shape) # (bsz, seq_len, 𝑃 + 1)\n",
    "    print(\"inputs:\", inputs) # 25 tokens per message\n",
    "    print(\"targets:\", targets) # prediction target is masked token?\n",
    "\n",
    "    # somewhere in last message of 500 length sequence, a token is masked\n",
    "    # and becomes prediction target\n",
    "\n",
    "    # 𝑃 separate volume features around the mid-price, coupled with one feature\n",
    "    # representing mid-price changes from the previous observation.\n",
    "    print(\"book_data:\", book_data) # book snapshots or \"volume images\"\n",
    "\n",
    "    break"
   ]
  },
  {
   "cell_type": "code",
   "execution_count": 16,
   "metadata": {},
   "outputs": [
    {
     "data": {
      "text/plain": [
       "array([12051,  1006, 12010, 12008, 11013,     0,     1,     1,     1,\n",
       "           1,     1,     1,     1,     1,     1,     1,     1,     1,\n",
       "           1,     1,     1,     1,     1,     1,     1], dtype=int32)"
      ]
     },
     "execution_count": 16,
     "metadata": {},
     "output_type": "execute_result"
    }
   ],
   "source": [
    "# for i in inputs[0][0:25]:\n",
    "#     print(i)\n",
    "# inputs[0][0:25] # first message\n",
    "inputs[2][-25:] # last message\n",
    "# print(itch_encoding.decode_msg(inputs[0][0:25], vocab.ENCODING))"
   ]
  },
  {
   "cell_type": "markdown",
   "metadata": {},
   "source": [
    "##### ITCH Encoding"
   ]
  },
  {
   "cell_type": "code",
   "execution_count": 4,
   "metadata": {},
   "outputs": [
    {
     "data": {
      "text/plain": [
       "{'ticker': 0,\n",
       " 'type': 1,\n",
       " 'side': 2,\n",
       " 'price': 3,\n",
       " 'fill_size': 4,\n",
       " 'remain_size': 5,\n",
       " 'delta_t_s': 6,\n",
       " 'delta_t_ns': 7,\n",
       " 'time_s': 8,\n",
       " 'time_ns': 9,\n",
       " 'price_ref': 10,\n",
       " 'fill_size_ref': 11,\n",
       " 'time_s_ref': 12,\n",
       " 'time_ns_ref': 13}"
      ]
     },
     "execution_count": 4,
     "metadata": {},
     "output_type": "execute_result"
    }
   ],
   "source": [
    "dataset = '03272019.NASDAQ_ITCH50_AAPL_message_proc.npy'\n",
    "data_dir = os.path.join('dataset/proc/ITCH/', dataset)\n",
    "data_dir = parent_folder_path + '/' + data_dir\n",
    "\n",
    "vocab = itch_encoding.Vocab()\n",
    "itch_tok = itch_encoding.Message_Tokenizer()\n",
    "\n",
    "itch_tok.FIELD_I"
   ]
  },
  {
   "cell_type": "code",
   "execution_count": 29,
   "metadata": {},
   "outputs": [
    {
     "name": "stdout",
     "output_type": "stream",
     "text": [
      "X_raw.shape: (500, 18)\n",
      "X_raw: [[     40 9449417       1 ...   -9999   -9999   -9999]\n",
      " [     40 9449521       1 ...   -9999   -9999   -9999]\n",
      " [     40 9460301       1 ...   -9999   -9999   -9999]\n",
      " ...\n",
      " [     40 9998365       1 ...   -9999   -9999   -9999]\n",
      " [     40 9998821       1 ...   -9999   -9999   -9999]\n",
      " [     40 9998845       1 ...   -9999   -9999   -9999]]\n",
      "X.shape: (500, 24)\n",
      "X: [[12051  1003 12010 ...     2     2     2]\n",
      " [12051  1003 12011 ...     2     2     2]\n",
      " [12051  1003 12011 ...     2     2     2]\n",
      " ...\n",
      " [12051  1003 12010 ...     2     2     2]\n",
      " [12051  1003 12010 ...     2     2     2]\n",
      " [12051  1003 12010 ...     2     2     2]]\n",
      "encoded sample: [12051  1003 12011 12009 11245  1088     2     3     3    10   643    37\n",
      "   203   955   543   393     2     2     2     2     2     2     2     2]\n",
      "decoded sample: [       40     -9999         1         1     -9999       237        80\n",
      "     -9999         0      7640     34200 952540390     -9999     -9999\n",
      "     -9999     -9999     -9999     -9999]\n"
     ]
    }
   ],
   "source": [
    "# X = np.load(dataset_obj.train_files[0], mmap_mode='r')\n",
    "X = np.load(data_dir, mmap_mode='r')\n",
    "X_raw = np.array(X[0:500])\n",
    "print(\"X_raw.shape:\", X_raw.shape)\n",
    "print(\"X_raw:\", X_raw)\n",
    "\n",
    "X = itch_encoding.encode_msgs(X_raw, vocab.ENCODING)\n",
    "print(\"X.shape:\", X.shape)\n",
    "print(\"X:\", X)\n",
    "\n",
    "# # seq = X_raw.copy()\n",
    "# seq = X.copy()\n",
    "\n",
    "# y = seq[-1][11]\n",
    "# y\n",
    "\n",
    "# seq[-1][11] = -10000\n",
    "\n",
    "# seq\n",
    "\n",
    "# y = y.reshape(-1)\n",
    "# X = X.reshape(-1)\n",
    "# X\n",
    "\n",
    "sample = random.choice(X)\n",
    "print(\"encoded sample:\", sample)\n",
    "print(\"decoded sample:\", itch_encoding.decode_msg(sample, vocab.ENCODING))"
   ]
  },
  {
   "cell_type": "code",
   "execution_count": 9,
   "metadata": {},
   "outputs": [
    {
     "data": {
      "text/plain": [
       "{'time': (array([-10000, -20000,  -9999, ...,    997,    998,    999], dtype=int32),\n",
       "  array([   0,    1,    2, ..., 1000, 1001, 1002], dtype=int32)),\n",
       " 'type': (array([-10000, -20000,  -9999,      1,      2,      3,      4,      5],\n",
       "        dtype=int32),\n",
       "  array([   0,    1,    2, 1003, 1004, 1005, 1006, 1007], dtype=int32)),\n",
       " 'size': (array([-10000, -20000,  -9999, ...,   9997,   9998,   9999], dtype=int32),\n",
       "  array([    0,     1,     2, ..., 11005, 11006, 11007], dtype=int32)),\n",
       " 'price': (array([-10000, -20000,  -9999, ...,    997,    998,    999], dtype=int32),\n",
       "  array([    0,     1,     2, ..., 12005, 12006, 12007], dtype=int32)),\n",
       " 'sign': (array([-10000, -20000,  -9999,     -1,      1], dtype=int32),\n",
       "  array([    0,     1,     2, 12008, 12009], dtype=int32)),\n",
       " 'side': (array([-10000, -20000,  -9999,      0,      1], dtype=int32),\n",
       "  array([    0,     1,     2, 12010, 12011], dtype=int32)),\n",
       " 'ticker': (array([-10000, -20000,  -9999,      1,      2,      3,      4,      5,\n",
       "              6,      7,      8,      9,     10,     11,     12,     13,\n",
       "             14,     15,     16,     17,     18,     19,     20,     21,\n",
       "             22,     23,     24,     25,     26,     27,     28,     29,\n",
       "             30,     31,     32,     33,     34,     35,     36,     37,\n",
       "             38,     39,     40,     41,     42,     43,     44,     45,\n",
       "             46,     47,     48,     49,     50,     51,     52,     53,\n",
       "             54,     55,     56,     57,     58,     59,     60,     61,\n",
       "             62,     63,     64,     65,     66,     67,     68,     69,\n",
       "             70,     71,     72,     73,     74,     75,     76,     77,\n",
       "             78,     79,     80,     81,     82,     83,     84,     85,\n",
       "             86,     87,     88,     89,     90,     91,     92,     93,\n",
       "             94,     95,     96,     97,     98,     99,    100,    101,\n",
       "            102,    103,    104,    105,    106,    107,    108,    109,\n",
       "            110,    111,    112,    113,    114,    115,    116,    117,\n",
       "            118,    119,    120,    121,    122,    123,    124,    125,\n",
       "            126,    127,    128,    129,    130,    131,    132,    133,\n",
       "            134,    135,    136,    137,    138,    139,    140,    141,\n",
       "            142,    143,    144,    145,    146,    147,    148,    149,\n",
       "            150,    151,    152,    153,    154,    155,    156,    157,\n",
       "            158,    159,    160,    161,    162,    163,    164,    165,\n",
       "            166,    167,    168,    169,    170,    171,    172,    173,\n",
       "            174,    175,    176,    177,    178,    179,    180,    181,\n",
       "            182,    183,    184,    185,    186,    187,    188,    189,\n",
       "            190,    191,    192,    193,    194,    195,    196,    197,\n",
       "            198,    199,    200,    201,    202,    203,    204,    205,\n",
       "            206,    207,    208,    209,    210,    211,    212,    213,\n",
       "            214,    215,    216,    217,    218,    219,    220,    221,\n",
       "            222,    223,    224,    225,    226,    227,    228,    229,\n",
       "            230,    231,    232,    233,    234,    235,    236,    237,\n",
       "            238,    239,    240,    241,    242,    243,    244,    245,\n",
       "            246,    247,    248,    249,    250,    251,    252,    253,\n",
       "            254,    255,    256,    257,    258,    259,    260,    261,\n",
       "            262,    263,    264,    265,    266,    267,    268,    269,\n",
       "            270,    271,    272,    273,    274,    275,    276,    277,\n",
       "            278,    279,    280,    281,    282,    283,    284,    285,\n",
       "            286,    287,    288,    289,    290,    291,    292,    293,\n",
       "            294,    295,    296,    297,    298,    299,    300,    301,\n",
       "            302,    303,    304,    305,    306,    307,    308,    309,\n",
       "            310,    311,    312,    313,    314,    315,    316,    317,\n",
       "            318,    319,    320,    321,    322,    323,    324,    325,\n",
       "            326,    327,    328,    329,    330,    331,    332,    333,\n",
       "            334,    335,    336,    337,    338,    339,    340,    341,\n",
       "            342,    343,    344,    345,    346,    347,    348,    349,\n",
       "            350,    351,    352,    353,    354,    355,    356,    357,\n",
       "            358,    359,    360,    361,    362,    363,    364,    365,\n",
       "            366,    367,    368,    369,    370,    371,    372,    373,\n",
       "            374,    375,    376,    377,    378,    379,    380,    381,\n",
       "            382,    383,    384,    385,    386,    387,    388,    389,\n",
       "            390,    391,    392,    393,    394,    395,    396,    397,\n",
       "            398,    399,    400,    401,    402,    403,    404,    405,\n",
       "            406,    407,    408,    409,    410,    411,    412,    413,\n",
       "            414,    415,    416,    417,    418,    419,    420,    421,\n",
       "            422,    423,    424,    425,    426,    427,    428,    429,\n",
       "            430,    431,    432,    433,    434,    435,    436,    437,\n",
       "            438,    439,    440,    441,    442,    443,    444,    445,\n",
       "            446,    447,    448,    449,    450,    451,    452,    453,\n",
       "            454,    455,    456,    457,    458,    459,    460,    461,\n",
       "            462,    463,    464,    465,    466,    467,    468,    469,\n",
       "            470,    471,    472,    473,    474,    475,    476,    477,\n",
       "            478,    479,    480,    481,    482,    483,    484,    485,\n",
       "            486,    487,    488,    489,    490,    491,    492,    493,\n",
       "            494,    495,    496,    497,    498,    499,    500,    501,\n",
       "            502,    503], dtype=int32),\n",
       "  array([    0,     1,     2, 12012, 12013, 12014, 12015, 12016, 12017,\n",
       "         12018, 12019, 12020, 12021, 12022, 12023, 12024, 12025, 12026,\n",
       "         12027, 12028, 12029, 12030, 12031, 12032, 12033, 12034, 12035,\n",
       "         12036, 12037, 12038, 12039, 12040, 12041, 12042, 12043, 12044,\n",
       "         12045, 12046, 12047, 12048, 12049, 12050, 12051, 12052, 12053,\n",
       "         12054, 12055, 12056, 12057, 12058, 12059, 12060, 12061, 12062,\n",
       "         12063, 12064, 12065, 12066, 12067, 12068, 12069, 12070, 12071,\n",
       "         12072, 12073, 12074, 12075, 12076, 12077, 12078, 12079, 12080,\n",
       "         12081, 12082, 12083, 12084, 12085, 12086, 12087, 12088, 12089,\n",
       "         12090, 12091, 12092, 12093, 12094, 12095, 12096, 12097, 12098,\n",
       "         12099, 12100, 12101, 12102, 12103, 12104, 12105, 12106, 12107,\n",
       "         12108, 12109, 12110, 12111, 12112, 12113, 12114, 12115, 12116,\n",
       "         12117, 12118, 12119, 12120, 12121, 12122, 12123, 12124, 12125,\n",
       "         12126, 12127, 12128, 12129, 12130, 12131, 12132, 12133, 12134,\n",
       "         12135, 12136, 12137, 12138, 12139, 12140, 12141, 12142, 12143,\n",
       "         12144, 12145, 12146, 12147, 12148, 12149, 12150, 12151, 12152,\n",
       "         12153, 12154, 12155, 12156, 12157, 12158, 12159, 12160, 12161,\n",
       "         12162, 12163, 12164, 12165, 12166, 12167, 12168, 12169, 12170,\n",
       "         12171, 12172, 12173, 12174, 12175, 12176, 12177, 12178, 12179,\n",
       "         12180, 12181, 12182, 12183, 12184, 12185, 12186, 12187, 12188,\n",
       "         12189, 12190, 12191, 12192, 12193, 12194, 12195, 12196, 12197,\n",
       "         12198, 12199, 12200, 12201, 12202, 12203, 12204, 12205, 12206,\n",
       "         12207, 12208, 12209, 12210, 12211, 12212, 12213, 12214, 12215,\n",
       "         12216, 12217, 12218, 12219, 12220, 12221, 12222, 12223, 12224,\n",
       "         12225, 12226, 12227, 12228, 12229, 12230, 12231, 12232, 12233,\n",
       "         12234, 12235, 12236, 12237, 12238, 12239, 12240, 12241, 12242,\n",
       "         12243, 12244, 12245, 12246, 12247, 12248, 12249, 12250, 12251,\n",
       "         12252, 12253, 12254, 12255, 12256, 12257, 12258, 12259, 12260,\n",
       "         12261, 12262, 12263, 12264, 12265, 12266, 12267, 12268, 12269,\n",
       "         12270, 12271, 12272, 12273, 12274, 12275, 12276, 12277, 12278,\n",
       "         12279, 12280, 12281, 12282, 12283, 12284, 12285, 12286, 12287,\n",
       "         12288, 12289, 12290, 12291, 12292, 12293, 12294, 12295, 12296,\n",
       "         12297, 12298, 12299, 12300, 12301, 12302, 12303, 12304, 12305,\n",
       "         12306, 12307, 12308, 12309, 12310, 12311, 12312, 12313, 12314,\n",
       "         12315, 12316, 12317, 12318, 12319, 12320, 12321, 12322, 12323,\n",
       "         12324, 12325, 12326, 12327, 12328, 12329, 12330, 12331, 12332,\n",
       "         12333, 12334, 12335, 12336, 12337, 12338, 12339, 12340, 12341,\n",
       "         12342, 12343, 12344, 12345, 12346, 12347, 12348, 12349, 12350,\n",
       "         12351, 12352, 12353, 12354, 12355, 12356, 12357, 12358, 12359,\n",
       "         12360, 12361, 12362, 12363, 12364, 12365, 12366, 12367, 12368,\n",
       "         12369, 12370, 12371, 12372, 12373, 12374, 12375, 12376, 12377,\n",
       "         12378, 12379, 12380, 12381, 12382, 12383, 12384, 12385, 12386,\n",
       "         12387, 12388, 12389, 12390, 12391, 12392, 12393, 12394, 12395,\n",
       "         12396, 12397, 12398, 12399, 12400, 12401, 12402, 12403, 12404,\n",
       "         12405, 12406, 12407, 12408, 12409, 12410, 12411, 12412, 12413,\n",
       "         12414, 12415, 12416, 12417, 12418, 12419, 12420, 12421, 12422,\n",
       "         12423, 12424, 12425, 12426, 12427, 12428, 12429, 12430, 12431,\n",
       "         12432, 12433, 12434, 12435, 12436, 12437, 12438, 12439, 12440,\n",
       "         12441, 12442, 12443, 12444, 12445, 12446, 12447, 12448, 12449,\n",
       "         12450, 12451, 12452, 12453, 12454, 12455, 12456, 12457, 12458,\n",
       "         12459, 12460, 12461, 12462, 12463, 12464, 12465, 12466, 12467,\n",
       "         12468, 12469, 12470, 12471, 12472, 12473, 12474, 12475, 12476,\n",
       "         12477, 12478, 12479, 12480, 12481, 12482, 12483, 12484, 12485,\n",
       "         12486, 12487, 12488, 12489, 12490, 12491, 12492, 12493, 12494,\n",
       "         12495, 12496, 12497, 12498, 12499, 12500, 12501, 12502, 12503,\n",
       "         12504, 12505, 12506, 12507, 12508, 12509, 12510, 12511, 12512,\n",
       "         12513, 12514], dtype=int32))}"
      ]
     },
     "execution_count": 9,
     "metadata": {},
     "output_type": "execute_result"
    }
   ],
   "source": [
    "vocab.ENCODING"
   ]
  },
  {
   "cell_type": "markdown",
   "metadata": {},
   "source": [
    "### Training"
   ]
  },
  {
   "cell_type": "code",
   "execution_count": 4,
   "metadata": {},
   "outputs": [
    {
     "data": {
      "text/plain": [
       "'cuda'"
      ]
     },
     "execution_count": 4,
     "metadata": {},
     "output_type": "execute_result"
    }
   ],
   "source": [
    "# os.environ[\"XLA_PYTHON_CLIENT_ALLOCATOR\"] = \"platform\"\n",
    "\n",
    "import torch\n",
    "from contextlib import nullcontext\n",
    "\n",
    "from equities.model import GPTConfig, GPT\n",
    "\n",
    "device = 'cuda' #torch.device(\"cuda\" if torch.cuda.is_available() else \"cpu\")\n",
    "dtype = 'bfloat16' if torch.cuda.is_available() and torch.cuda.is_bf16_supported() else 'float16' # 'float32', 'bfloat16', or 'float16', the latter will auto implement a GradScaler\n",
    "device_type = 'cuda' if 'cuda' in device else 'cpu' # for later use in torch.autocast\n",
    "# note: float16 data type will automatically use a GradScaler\n",
    "ptdtype = {'float32': torch.float32, 'bfloat16': torch.bfloat16, 'float16': torch.float16}[dtype]\n",
    "ctx = nullcontext() if device_type == 'cpu' else torch.amp.autocast(device_type=device_type, dtype=ptdtype)\n",
    "\n",
    "\n",
    "device"
   ]
  },
  {
   "cell_type": "code",
   "execution_count": 5,
   "metadata": {},
   "outputs": [
    {
     "name": "stdout",
     "output_type": "stream",
     "text": [
      "msg_seqL: 24, blk_size: 575\n",
      "msg_seqL: 48, blk_size: 1151\n",
      "msg_seqL: 72, blk_size: 1727\n",
      "msg_seqL: 96, blk_size: 2303\n",
      "msg_seqL: 120, blk_size: 2879\n",
      "msg_seqL: 144, blk_size: 3455\n",
      "msg_seqL: 168, blk_size: 4031\n",
      "msg_seqL: 192, blk_size: 4607\n",
      "msg_seqL: 216, blk_size: 5183\n",
      "msg_seqL: 240, blk_size: 5759\n",
      "msg_seqL: 264, blk_size: 6335\n",
      "msg_seqL: 288, blk_size: 6911\n",
      "msg_seqL: 312, blk_size: 7487\n",
      "msg_seqL: 336, blk_size: 8063\n",
      "msg_seqL: 360, blk_size: 8639\n",
      "msg_seqL: 384, blk_size: 9215\n",
      "msg_seqL: 408, blk_size: 9791\n",
      "msg_seqL: 432, blk_size: 10367\n",
      "msg_seqL: 456, blk_size: 10943\n",
      "msg_seqL: 480, blk_size: 11519\n"
     ]
    }
   ],
   "source": [
    "# determine appropriate msg_seq_len for efficient block_size\n",
    "msg_seqL = 0\n",
    "# for i in range(1, 500):\n",
    "for i in range(1, 500):\n",
    "    msg_seqL = i\n",
    "    blk_size = msg_seqL*24 - 1 # minus 1 for target rescaling\n",
    "    if msg_seqL % 24 == 0:\n",
    "    # if blk_size % 64 == 0 and msg_seqL % 24 == 0:\n",
    "        print(f\"msg_seqL: {msg_seqL}, blk_size: {blk_size}\")"
   ]
  },
  {
   "cell_type": "code",
   "execution_count": 6,
   "metadata": {},
   "outputs": [
    {
     "name": "stdout",
     "output_type": "stream",
     "text": [
      "len(train_message_files): 6\n",
      "len(val_message_files): 1\n",
      "len(test_message_files): 1\n"
     ]
    }
   ],
   "source": [
    "train_data_dir = parent_folder_path + '/dataset/proc/ITCH/train/'\n",
    "train_message_files = sorted(glob(str(train_data_dir) + '/*message*.npy'))\n",
    "assert len(train_message_files) > 0, f'no message files found in {train_data_dir}'\n",
    "\n",
    "val_data_dir = parent_folder_path + '/dataset/proc/ITCH/val/'\n",
    "val_message_files = sorted(glob(str(val_data_dir) + '/*message*.npy'))\n",
    "assert len(val_message_files) > 0, f'no message files found in {val_data_dir}'\n",
    "\n",
    "test_data_dir = parent_folder_path + '/dataset/proc/ITCH/test/'\n",
    "test_message_files = sorted(glob(str(test_data_dir) + '/*message*.npy'))\n",
    "assert len(test_message_files) > 0, f'no message files found in {test_data_dir}'\n",
    "\n",
    "print(\"len(train_message_files):\", len(train_message_files))\n",
    "print(\"len(val_message_files):\", len(val_message_files))\n",
    "print(\"len(test_message_files):\", len(test_message_files))"
   ]
  },
  {
   "cell_type": "code",
   "execution_count": 7,
   "metadata": {},
   "outputs": [
    {
     "data": {
      "text/plain": [
       "[memmap([[       40,   9795465,         4, ...,     -9999,     -9999,\n",
       "              -9999],\n",
       "         [       40,   9806105,         1, ...,     -9999,     -9999,\n",
       "              -9999],\n",
       "         [       40,   9806141,         1, ...,     -9999,     -9999,\n",
       "              -9999],\n",
       "         ...,\n",
       "         [       40, 327992593,         5, ...,     57599, 961935496,\n",
       "              16027],\n",
       "         [       40, 327992597,         1, ...,     -9999,     -9999,\n",
       "              -9999],\n",
       "         [       40, 327992857,         5, ...,     57599, 981953005,\n",
       "              16528]]),\n",
       " memmap([[       40,  10134653,         1, ...,     -9999,     -9999,\n",
       "              -9999],\n",
       "         [       40,  10140325,         1, ...,     -9999,     -9999,\n",
       "              -9999],\n",
       "         [       40,  10140337,         1, ...,     -9999,     -9999,\n",
       "              -9999],\n",
       "         ...,\n",
       "         [       40, 387932841,         1, ...,     -9999,     -9999,\n",
       "              -9999],\n",
       "         [       40, 387932961,         5, ...,     57599, 863017998,\n",
       "              29956],\n",
       "         [       40, 387932841,         4, ...,     57599, 975415409,\n",
       "              -9999]]),\n",
       " memmap([[       40,   9449417,         1, ...,     -9999,     -9999,\n",
       "              -9999],\n",
       "         [       40,   9449521,         1, ...,     -9999,     -9999,\n",
       "              -9999],\n",
       "         [       40,   9460301,         1, ...,     -9999,     -9999,\n",
       "              -9999],\n",
       "         ...,\n",
       "         [       40, 352943165,         1, ...,     -9999,     -9999,\n",
       "              -9999],\n",
       "         [       40, 352930741,         4, ...,     57599, 940363730,\n",
       "              -9999],\n",
       "         [       40, 352930753,         4, ...,     57599, 940388253,\n",
       "              -9999]]),\n",
       " memmap([[       40,   9427833,         5, ...,     -9999,     -9999,\n",
       "              21512],\n",
       "         [       40,   9431877,         1, ...,     -9999,     -9999,\n",
       "              -9999],\n",
       "         [       40,   9431941,         1, ...,     -9999,     -9999,\n",
       "              -9999],\n",
       "         ...,\n",
       "         [       40, 251669637,         1, ...,     -9999,     -9999,\n",
       "              -9999],\n",
       "         [       40, 251669641,         1, ...,     -9999,     -9999,\n",
       "              -9999],\n",
       "         [       40, 251669781,         1, ...,     -9999,     -9999,\n",
       "              -9999]]),\n",
       " memmap([[       40,   8817565,         1, ...,     -9999,     -9999,\n",
       "              -9999],\n",
       "         [       40,   8818981,         1, ...,     -9999,     -9999,\n",
       "              -9999],\n",
       "         [       40,   8818981,         2, ...,     34200,  10273657,\n",
       "              -9999],\n",
       "         ...,\n",
       "         [       40, 293404829,         1, ...,     -9999,     -9999,\n",
       "              -9999],\n",
       "         [       40, 293405377,         1, ...,     -9999,     -9999,\n",
       "              -9999],\n",
       "         [       40, 293406269,         1, ...,     -9999,     -9999,\n",
       "              -9999]]),\n",
       " memmap([[       40,   8963989,         1, ...,     -9999,     -9999,\n",
       "              -9999],\n",
       "         [       40,   8963993,         1, ...,     -9999,     -9999,\n",
       "              -9999],\n",
       "         [       40,   8964509,         1, ...,     -9999,     -9999,\n",
       "              -9999],\n",
       "         ...,\n",
       "         [       40, 457803949,         4, ...,     57599, 941429324,\n",
       "              -9999],\n",
       "         [       40, 457814049,         1, ...,     -9999,     -9999,\n",
       "              -9999],\n",
       "         [       40, 457814741,         5, ...,     57599, 989131315,\n",
       "              15621]])]"
      ]
     },
     "execution_count": 7,
     "metadata": {},
     "output_type": "execute_result"
    }
   ],
   "source": [
    "# set seed\n",
    "seed = 42\n",
    "rng = random.Random(seed)\n",
    "\n",
    "# load a list with all the train message files\n",
    "train_datasets = []\n",
    "for file in train_message_files:\n",
    "    train_datasets.append(np.load(file, mmap_mode='r'))\n",
    "\n",
    "# load a list with all the val message files\n",
    "val_datasets = []\n",
    "for file in val_message_files:\n",
    "    val_datasets.append(np.load(file, mmap_mode='r'))\n",
    "\n",
    "# load a list with all the test message files\n",
    "test_datasets = []\n",
    "for file in test_message_files:\n",
    "    test_datasets.append(np.load(file, mmap_mode='r'))\n",
    "\n",
    "train_datasets"
   ]
  },
  {
   "cell_type": "code",
   "execution_count": 8,
   "metadata": {},
   "outputs": [
    {
     "name": "stdout",
     "output_type": "stream",
     "text": [
      "(1586524, 18)\n",
      "(1942488, 18)\n",
      "(1953936, 18)\n",
      "(1206471, 18)\n",
      "(727346, 18)\n",
      "(1388800, 18)\n"
     ]
    }
   ],
   "source": [
    "# print shape of each dataset in train_datasets\n",
    "for dataset in train_datasets:\n",
    "    print(dataset.shape)"
   ]
  },
  {
   "cell_type": "code",
   "execution_count": 8,
   "metadata": {},
   "outputs": [],
   "source": [
    "# dataset = '03272019.NASDAQ_ITCH50_AAPL_book_20_proc.npy'\n",
    "# data_dir = os.path.join('dataset/proc/ITCH/', dataset)\n",
    "# data_dir = parent_folder_path + '/' + data_dir\n",
    "# data_dir\n",
    "\n",
    "# train_data = np.load(data_dir, mmap_mode='r')\n",
    "# val_data = None"
   ]
  },
  {
   "cell_type": "code",
   "execution_count": 9,
   "metadata": {},
   "outputs": [
    {
     "name": "stdout",
     "output_type": "stream",
     "text": [
      "train_data.shape: (1388800, 18)\n"
     ]
    },
    {
     "data": {
      "text/plain": [
       "memmap([[       40,   8963989,         1, ...,     -9999,     -9999,\n",
       "             -9999],\n",
       "        [       40,   8963993,         1, ...,     -9999,     -9999,\n",
       "             -9999],\n",
       "        [       40,   8964509,         1, ...,     -9999,     -9999,\n",
       "             -9999],\n",
       "        ...,\n",
       "        [       40, 457803949,         4, ...,     57599, 941429324,\n",
       "             -9999],\n",
       "        [       40, 457814049,         1, ...,     -9999,     -9999,\n",
       "             -9999],\n",
       "        [       40, 457814741,         5, ...,     57599, 989131315,\n",
       "             15621]])"
      ]
     },
     "execution_count": 9,
     "metadata": {},
     "output_type": "execute_result"
    }
   ],
   "source": [
    "sample_dataset = rng.choice(train_datasets)\n",
    "print(\"train_data.shape:\", sample_dataset.shape)\n",
    "vocab = itch_encoding.Vocab()\n",
    "itch_tok = itch_encoding.Message_Tokenizer()\n",
    "msg_seq_len = 432 # 425\n",
    "batch_size = 2 # 8 # 16\n",
    "# use_sink = False # True\n",
    "use_sink = True\n",
    "\n",
    "sample_dataset"
   ]
  },
  {
   "cell_type": "code",
   "execution_count": 44,
   "metadata": {},
   "outputs": [
    {
     "name": "stdout",
     "output_type": "stream",
     "text": [
      "vocab_size: 12515\n",
      "vocab_size: 12544\n",
      "vocab_size: 12608\n"
     ]
    }
   ],
   "source": [
    "# determine efficient vocab size\n",
    "vocab_size = len(vocab)\n",
    "print(f\"vocab_size: {vocab_size}\")\n",
    "for i in range(len(vocab), (len(vocab) + 100)):\n",
    "    vocab_size += 1\n",
    "    if vocab_size % 64 == 0:\n",
    "        print(f\"vocab_size: {vocab_size}\")"
   ]
  },
  {
   "cell_type": "code",
   "execution_count": 45,
   "metadata": {},
   "outputs": [],
   "source": [
    "# poor man's data loader\n",
    "def get_batch(split):\n",
    "    datasets = train_datasets if split == 'train' else val_datasets\n",
    "    data = rng.choice(datasets)\n",
    "    print(\"train_data.shape:\", data.shape)\n",
    "    ix = torch.randint(len(data) - msg_seq_len, (batch_size,))\n",
    "    # x = torch.stack([torch.from_numpy((data[i:i+msg_seq_len]).astype(np.int64)) for i in ix])\n",
    "    x = torch.stack([torch.from_numpy((itch_encoding.encode_msgs((data[i:i+msg_seq_len]).astype(np.int64), vocab.ENCODING)).reshape(-1)) for i in ix])\n",
    "    # y = torch.stack([torch.from_numpy((data[i+1:i+1+msg_seq_len]).astype(np.int64)) for i in ix])\n",
    "    if use_sink:\n",
    "        # append sink token to start of each batch sequence\n",
    "        # **since vocab.SINK_TOK = 1, we can just use torch.ones\n",
    "        x = torch.cat([torch.ones((batch_size, 1), dtype=torch.int), x], dim=1)\n",
    "    y = x[:, 1:] # remove the first element of each batch\n",
    "    y = y.type(torch.LongTensor) # casting to long\n",
    "    x = x[:, :-1] # remove the last element of each batch\n",
    "    \n",
    "    # if device_type == 'cuda':\n",
    "    #     # pin arrays x,y, which allows us to move them to GPU asynchronously (non_blocking=True)\n",
    "    #     x, y = x.pin_memory().to(device, non_blocking=True), y.pin_memory().to(device, non_blocking=True)\n",
    "    # else:\n",
    "    #     x, y = x.to(device), y.to(device)\n",
    "    x, y = x.pin_memory().to(device, non_blocking=True), y.pin_memory().to(device, non_blocking=True)\n",
    "    # x, y = x.to(device), y.to(device)\n",
    "    return x, y"
   ]
  },
  {
   "cell_type": "code",
   "execution_count": 46,
   "metadata": {},
   "outputs": [
    {
     "name": "stdout",
     "output_type": "stream",
     "text": [
      "train_data.shape: (727346, 18)\n",
      "X.shape: torch.Size([2, 10368])\n",
      "Y.shape: torch.Size([2, 10368])\n"
     ]
    },
    {
     "data": {
      "text/plain": [
       "tensor([[    1, 12051,  1006,  ...,     2,     2,     2],\n",
       "        [    1, 12051,  1007,  ...,   273,   833,   360]], device='cuda:0',\n",
       "       dtype=torch.int32)"
      ]
     },
     "execution_count": 46,
     "metadata": {},
     "output_type": "execute_result"
    }
   ],
   "source": [
    "X, Y = get_batch('train') # fetch the very first batch\n",
    "print(\"X.shape:\", X.shape) # (batch_size, block_size)\n",
    "print(\"Y.shape:\", Y.shape)\n",
    "\n",
    "X"
   ]
  },
  {
   "cell_type": "code",
   "execution_count": 48,
   "metadata": {},
   "outputs": [
    {
     "name": "stdout",
     "output_type": "stream",
     "text": [
      "1\n"
     ]
    },
    {
     "data": {
      "text/plain": [
       "tensor([[    1,     1, 12051,  ...,     2,     2,     2],\n",
       "        [    1,     1, 12051,  ...,   273,   833,   360]], device='cuda:0')"
      ]
     },
     "execution_count": 48,
     "metadata": {},
     "output_type": "execute_result"
    }
   ],
   "source": [
    "print(vocab.SINK_TOK)\n",
    "assert vocab.SINK_TOK == 1\n",
    "torch.ones((batch_size, 1), dtype=torch.long, device=device) * vocab.SINK_TOK\n",
    "\n",
    "torch.cat([torch.ones((batch_size, 1), dtype=torch.long, device=device), X], dim=1)\n",
    "# torch.cat([X, torch.ones(batch_size, 1)], dim=1)\n",
    "# torch.cat([])"
   ]
  },
  {
   "cell_type": "code",
   "execution_count": 49,
   "metadata": {},
   "outputs": [
    {
     "name": "stdout",
     "output_type": "stream",
     "text": [
      "block_size: 10368\n"
     ]
    },
    {
     "data": {
      "text/plain": [
       "tensor([[12051,  1006, 12010,  ...,     2,     2,     2],\n",
       "        [12051,  1007, 12010,  ...,   833,   360,   514]], device='cuda:0')"
      ]
     },
     "execution_count": 49,
     "metadata": {},
     "output_type": "execute_result"
    }
   ],
   "source": [
    "block_size = X.shape[1] # real block_size; i.e., context length\n",
    "print(\"block_size:\", block_size)\n",
    "Y"
   ]
  },
  {
   "cell_type": "code",
   "execution_count": 59,
   "metadata": {},
   "outputs": [
    {
     "data": {
      "text/plain": [
       "tensor([12051,  1003, 12011, 12009, 11010,  1108,     2,     3,     3,    19,\n",
       "          808,    59,   974,    53,   148,   348,     2,     2,     2,     2,\n",
       "            2,     2,     2,     2], device='cuda:0')"
      ]
     },
     "execution_count": 59,
     "metadata": {},
     "output_type": "execute_result"
    }
   ],
   "source": [
    "Y[0][-24:] # last message"
   ]
  },
  {
   "cell_type": "code",
   "execution_count": 58,
   "metadata": {},
   "outputs": [
    {
     "data": {
      "text/plain": [
       "tensor([12051,  1003, 12011, 12009, 11010,  1108,     2,     3,     3,    19,\n",
       "          808,    59,   974,    53,   148,   348,     2,     2,     2,     2,\n",
       "            2,     2,     2], device='cuda:0', dtype=torch.int32)"
      ]
     },
     "execution_count": 58,
     "metadata": {},
     "output_type": "execute_result"
    }
   ],
   "source": [
    "X[0][-23:] # last message minus last token"
   ]
  },
  {
   "cell_type": "code",
   "execution_count": 60,
   "metadata": {},
   "outputs": [
    {
     "data": {
      "text/plain": [
       "{'block_size': 10367,\n",
       " 'vocab_size': 12515,\n",
       " 'n_layer': 12,\n",
       " 'n_head': 12,\n",
       " 'n_embd': 768,\n",
       " 'dropout': 0.0,\n",
       " 'bias': True}"
      ]
     },
     "execution_count": 60,
     "metadata": {},
     "output_type": "execute_result"
    }
   ],
   "source": [
    "gptconf = GPTConfig()\n",
    "# gptconf = GPTConfig(block_size=block_size,)\n",
    "\n",
    "vars(gptconf)"
   ]
  },
  {
   "cell_type": "code",
   "execution_count": 61,
   "metadata": {},
   "outputs": [
    {
     "name": "stdout",
     "output_type": "stream",
     "text": [
      "number of parameters: 94.67M\n"
     ]
    },
    {
     "data": {
      "text/plain": [
       "GPT(\n",
       "  (transformer): ModuleDict(\n",
       "    (wte): Embedding(12515, 768)\n",
       "    (wpe): Embedding(10367, 768)\n",
       "    (drop): Dropout(p=0.0, inplace=False)\n",
       "    (h): ModuleList(\n",
       "      (0-11): 12 x Block(\n",
       "        (ln_1): LayerNorm()\n",
       "        (attn): CausalSelfAttention(\n",
       "          (c_attn): Linear(in_features=768, out_features=2304, bias=True)\n",
       "          (c_proj): Linear(in_features=768, out_features=768, bias=True)\n",
       "          (attn_dropout): Dropout(p=0.0, inplace=False)\n",
       "          (resid_dropout): Dropout(p=0.0, inplace=False)\n",
       "        )\n",
       "        (ln_2): LayerNorm()\n",
       "        (mlp): MLP(\n",
       "          (c_fc): Linear(in_features=768, out_features=3072, bias=True)\n",
       "          (gelu): GELU(approximate='none')\n",
       "          (c_proj): Linear(in_features=3072, out_features=768, bias=True)\n",
       "          (dropout): Dropout(p=0.0, inplace=False)\n",
       "        )\n",
       "      )\n",
       "    )\n",
       "    (ln_f): LayerNorm()\n",
       "  )\n",
       "  (lm_head): Linear(in_features=768, out_features=12515, bias=False)\n",
       ")"
      ]
     },
     "execution_count": 61,
     "metadata": {},
     "output_type": "execute_result"
    }
   ],
   "source": [
    "model = GPT(gptconf)\n",
    "model.to(device)"
   ]
  },
  {
   "cell_type": "code",
   "execution_count": 62,
   "metadata": {},
   "outputs": [
    {
     "name": "stdout",
     "output_type": "stream",
     "text": [
      "logits.shape: torch.Size([1, 10367, 12515])\n",
      "loss: tensor(9.5431, device='cuda:0', grad_fn=<NllLossBackward0>)\n"
     ]
    }
   ],
   "source": [
    "model.eval()\n",
    "\n",
    "# test forward pass\n",
    "with ctx:\n",
    "    logits, loss = model(X, Y)\n",
    "\n",
    "print(\"logits.shape:\", logits.shape)\n",
    "print(\"loss:\", loss)"
   ]
  },
  {
   "cell_type": "code",
   "execution_count": null,
   "metadata": {},
   "outputs": [],
   "source": []
  },
  {
   "cell_type": "markdown",
   "metadata": {},
   "source": [
    "#### What is Optimal Block Size?\n",
    "\n",
    "How far back in the message sequence does the average reference order refer back to?"
   ]
  },
  {
   "cell_type": "code",
   "execution_count": 68,
   "metadata": {},
   "outputs": [
    {
     "name": "stderr",
     "output_type": "stream",
     "text": [
      "0it [00:00, ?it/s]"
     ]
    },
    {
     "name": "stdout",
     "output_type": "stream",
     "text": [
      "/home/aaron/Documents/Github/MarketSimT/dataset/raw/ITCH/01302019.NASDAQ_ITCH50_AAPL_message.csv\n"
     ]
    },
    {
     "name": "stderr",
     "output_type": "stream",
     "text": [
      "1it [00:00,  1.62it/s]"
     ]
    },
    {
     "name": "stdout",
     "output_type": "stream",
     "text": [
      "ITCH messages shape: (1596503, 12)\n",
      "/home/aaron/Documents/Github/MarketSimT/dataset/raw/ITCH/01302020.NASDAQ_ITCH50_AAPL_message.csv\n"
     ]
    },
    {
     "name": "stderr",
     "output_type": "stream",
     "text": [
      "2it [00:01,  1.47it/s]"
     ]
    },
    {
     "name": "stdout",
     "output_type": "stream",
     "text": [
      "ITCH messages shape: (1956673, 12)\n",
      "/home/aaron/Documents/Github/MarketSimT/dataset/raw/ITCH/03272019.NASDAQ_ITCH50_AAPL_message.csv\n"
     ]
    },
    {
     "name": "stderr",
     "output_type": "stream",
     "text": [
      "3it [00:02,  1.42it/s]"
     ]
    },
    {
     "name": "stdout",
     "output_type": "stream",
     "text": [
      "ITCH messages shape: (1960770, 12)\n",
      "/home/aaron/Documents/Github/MarketSimT/dataset/raw/ITCH/07302019.NASDAQ_ITCH50_AAPL_message.csv\n"
     ]
    },
    {
     "name": "stderr",
     "output_type": "stream",
     "text": [
      "/home/aaron/Documents/Github/MarketSimT/equities/data_processing/itch_preproc.py:55: DtypeWarning: Columns (11) have mixed types. Specify dtype option on import or set low_memory=False.\n",
      "  messages = pd.read_csv(\n",
      "4it [00:02,  1.67it/s]"
     ]
    },
    {
     "name": "stdout",
     "output_type": "stream",
     "text": [
      "ITCH messages shape: (1214806, 12)\n",
      "/home/aaron/Documents/Github/MarketSimT/dataset/raw/ITCH/08302019.NASDAQ_ITCH50_AAPL_message.csv\n"
     ]
    },
    {
     "name": "stderr",
     "output_type": "stream",
     "text": [
      "5it [00:02,  1.87it/s]"
     ]
    },
    {
     "name": "stdout",
     "output_type": "stream",
     "text": [
      "ITCH messages shape: (1151383, 12)\n",
      "/home/aaron/Documents/Github/MarketSimT/dataset/raw/ITCH/10302019.NASDAQ_ITCH50_AAPL_message.csv\n"
     ]
    },
    {
     "name": "stderr",
     "output_type": "stream",
     "text": [
      "/home/aaron/Documents/Github/MarketSimT/equities/data_processing/itch_preproc.py:55: DtypeWarning: Columns (11) have mixed types. Specify dtype option on import or set low_memory=False.\n",
      "  messages = pd.read_csv(\n",
      "6it [00:03,  2.22it/s]"
     ]
    },
    {
     "name": "stdout",
     "output_type": "stream",
     "text": [
      "ITCH messages shape: (739800, 12)\n",
      "/home/aaron/Documents/Github/MarketSimT/dataset/raw/ITCH/12282018.NASDAQ_ITCH50_AAPL_message.csv\n"
     ]
    },
    {
     "name": "stderr",
     "output_type": "stream",
     "text": [
      "7it [00:03,  2.08it/s]"
     ]
    },
    {
     "name": "stdout",
     "output_type": "stream",
     "text": [
      "ITCH messages shape: (1395511, 12)\n",
      "/home/aaron/Documents/Github/MarketSimT/dataset/raw/ITCH/12302019.NASDAQ_ITCH50_AAPL_message.csv\n"
     ]
    },
    {
     "name": "stderr",
     "output_type": "stream",
     "text": [
      "8it [00:04,  1.84it/s]"
     ]
    },
    {
     "name": "stdout",
     "output_type": "stream",
     "text": [
      "ITCH messages shape: (1484259, 12)\n"
     ]
    },
    {
     "name": "stderr",
     "output_type": "stream",
     "text": [
      "\n"
     ]
    }
   ],
   "source": [
    "# load ITCH data\n",
    "messages_list = []\n",
    "data_id_list = []\n",
    "for m_f, b_f in tqdm(zip(itch_message_files, itch_book_files)):\n",
    "    print(m_f)\n",
    "    # print(b_f)\n",
    "    date = m_f.rsplit('/', maxsplit=1)[-1][:8]\n",
    "    sym = m_f.rsplit('/', maxsplit=1)[-1][:-12].rsplit('_', maxsplit=1)[-1]\n",
    "\n",
    "    itch_messages = itch_preproc.load_message_df(m_f)\n",
    "\n",
    "    # itch_book = pd.read_csv(\n",
    "    #     b_f,\n",
    "    #     # index_col=False,\n",
    "    #     # header=None\n",
    "    # )\n",
    "    # assert len(itch_messages) == len(itch_book)\n",
    "\n",
    "    # remove mpid field from ITCH data\n",
    "    itch_messages = itch_messages.drop(columns=['mpid'])\n",
    "\n",
    "    # # remove pre-market and after-market hours from ITCH data\n",
    "    # remove_premarket = False # True\n",
    "    # remove_aftermarket = False # True\n",
    "    # if remove_premarket:\n",
    "    #     itch_messages = itch_messages[itch_messages['time'] >= 34200000000000]\n",
    "    # if remove_aftermarket:\n",
    "    #     itch_messages = itch_messages[itch_messages['time'] <= 57600000000000]\n",
    "\n",
    "    itch_messages = itch_messages[itch_messages['time'] >= 34200000000000]\n",
    "    itch_messages = itch_messages[itch_messages['time'] <= 57600000000000]\n",
    "\n",
    "    # # format time for pre-processing\n",
    "    # itch_messages['time'] = itch_messages['time'].astype('string')\n",
    "    # itch_messages['time'] = itch_messages['time'].apply(lambda x: '.'.join((x[0:5], x[5:])))\n",
    "    # itch_messages['time'] = itch_messages['time'].apply(lambda x: Decimal(x))\n",
    "\n",
    "    # convert price to pennies from dollars\n",
    "    itch_messages['price'] = (itch_messages['price'] * 100).astype('int')\n",
    "    itch_messages['oldPrice'] = (itch_messages['oldPrice'] * 100) # make int after dealing with NaNs\n",
    "\n",
    "    # append message index to front of dataframe\n",
    "    itch_messages.insert(\n",
    "        loc=0,\n",
    "        column='msg_idx',\n",
    "        value=itch_messages.axes[0].tolist()\n",
    "    )\n",
    "\n",
    "    print(\"ITCH messages shape:\", itch_messages.shape)\n",
    "    # print(\"ITCH book shape:\", itch_book.shape)\n",
    "    \n",
    "\n",
    "    # append to list\n",
    "    messages_list.append(itch_messages)\n",
    "    data_id_list.append((date, sym))\n"
   ]
  },
  {
   "cell_type": "code",
   "execution_count": 69,
   "metadata": {},
   "outputs": [
    {
     "data": {
      "text/plain": [
       "[('01302019', 'AAPL'),\n",
       " ('01302020', 'AAPL'),\n",
       " ('03272019', 'AAPL'),\n",
       " ('07302019', 'AAPL'),\n",
       " ('08302019', 'AAPL'),\n",
       " ('10302019', 'AAPL'),\n",
       " ('12282018', 'AAPL'),\n",
       " ('12302019', 'AAPL')]"
      ]
     },
     "execution_count": 69,
     "metadata": {},
     "output_type": "execute_result"
    }
   ],
   "source": [
    "data_id_list"
   ]
  },
  {
   "cell_type": "code",
   "execution_count": 5,
   "metadata": {},
   "outputs": [
    {
     "name": "stdout",
     "output_type": "stream",
     "text": [
      "(1596503, 12)\n",
      "(1956673, 12)\n",
      "(1960770, 12)\n",
      "(1214806, 12)\n",
      "(1151383, 12)\n",
      "(739800, 12)\n",
      "(1395511, 12)\n",
      "(1484259, 12)\n"
     ]
    }
   ],
   "source": [
    "# for all referential order types ('E','C','D','R')\n",
    "modif_types={'E','C','D'}\n",
    "modif_types_special={'R'}\n",
    "modif_fields=['msg_idx']\n",
    "modif_fields_special=['msg_idx']\n",
    "nan_val = np.nan\n",
    "msg_distances = []\n",
    "\n",
    "# print shape of each dataset\n",
    "for df in messages_list:\n",
    "    print(df.shape)\n",
    "\n",
    "    # make df that converts 'R' values to 'A' values so that we can reference add order component of replace orders\n",
    "    r_df = df.copy()\n",
    "    r_df['type'] = r_df['type'].replace('R', 'A')\n",
    "\n",
    "    # find and merge modif_fields of E, C, D events that match with A (and R) event id\n",
    "    m_changes = pd.merge(\n",
    "        df.loc[df.type.isin(modif_types)].reset_index(),\n",
    "        r_df.loc[r_df.type == 'A', ['id'] + modif_fields],\n",
    "        how='left', on='id', suffixes=['', '_ref']).set_index('index')\n",
    "\n",
    "    # find modif_fields of R events that match with past A and R event oldIds\n",
    "    m_changes_special = pd.merge(\n",
    "        df.loc[df.type.isin(modif_types_special)].reset_index(),\n",
    "        (r_df.loc[r_df.type == 'A', ['id'] + modif_fields_special]).rename(columns={'id': 'oldId'}),\n",
    "        how='left', on='oldId', suffixes=['', '_ref']).set_index('index')\n",
    "\n",
    "    # add new empty columns for referenced order\n",
    "    modif_cols = [field + '_ref' for field in modif_fields]\n",
    "    df[modif_cols] = nan_val\n",
    "\n",
    "    # fill reference order types with new values\n",
    "    df.loc[m_changes.index] = m_changes\n",
    "    df.loc[m_changes_special.index] = m_changes_special\n",
    "\n",
    "    # compute distance in message sequence between referenced order and current order\n",
    "    msg_dist = df.loc[:, ['msg_idx', 'msg_idx_ref']] # https://stackoverflow.com/a/53954986\n",
    "    msg_dist = msg_dist.dropna(subset=['msg_idx_ref']) # drop NaNs\n",
    "    msg_dist.msg_idx_ref = msg_dist.msg_idx_ref.astype(int)\n",
    "    msg_dist['msg_idx_ref'] = msg_dist['msg_idx'] - msg_dist['msg_idx_ref']\n",
    "    msg_distances.append(msg_dist.msg_idx_ref.values)"
   ]
  },
  {
   "cell_type": "code",
   "execution_count": 6,
   "metadata": {},
   "outputs": [
    {
     "name": "stdout",
     "output_type": "stream",
     "text": [
      "(846407,)\n",
      "median: 39.0\n",
      "(1044795,)\n",
      "median: 25.0\n",
      "(1033960,)\n",
      "median: 43.0\n",
      "(623549,)\n",
      "median: 29.0\n",
      "(604548,)\n",
      "median: 35.0\n",
      "(384620,)\n",
      "median: 34.0\n",
      "(710618,)\n",
      "median: 43.0\n",
      "(782344,)\n",
      "median: 49.0\n",
      "overall median: 37.0\n",
      "overall mean: 4173.9655965063575\n"
     ]
    },
    {
     "data": {
      "text/plain": [
       "[array([ 1,  5,  3, ...,  1, 12,  6]),\n",
       " array([19, 39,  2, ...,  3, 19,  2]),\n",
       " array([  2,  24,  29, ..., 645,  14,  14]),\n",
       " array([15, 13,  2, ...,  5,  1,  6]),\n",
       " array([ 20,   1,  32, ..., 958, 964,   2]),\n",
       " array([  1,  10,  14, ..., 393,   6,  11]),\n",
       " array([10,  8,  6, ..., 27, 26,  1]),\n",
       " array([  1,  15,  18, ...,   3, 365,  10])]"
      ]
     },
     "execution_count": 6,
     "metadata": {},
     "output_type": "execute_result"
    }
   ],
   "source": [
    "for i in range(len(msg_distances)):\n",
    "    print(msg_distances[i].shape)\n",
    "    print(\"median:\", np.median(msg_distances[i]))\n",
    "\n",
    "print(\"overall median:\", np.median(np.concatenate(msg_distances)))\n",
    "print(\"overall mean:\", np.mean(np.concatenate(msg_distances)))\n",
    "msg_distances"
   ]
  },
  {
   "cell_type": "code",
   "execution_count": 27,
   "metadata": {},
   "outputs": [],
   "source": [
    "from matplotlib import pyplot as plt\n",
    "\n",
    "sys.path.append(os.path.join(parent_folder_path, 'simulator'))\n",
    "from simulator.core.utils import str_to_ns, fmt_ts"
   ]
  },
  {
   "cell_type": "code",
   "execution_count": 8,
   "metadata": {},
   "outputs": [
    {
     "name": "stdout",
     "output_type": "stream",
     "text": [
      "Minimum: 1\n",
      "Maximum: 1594189\n"
     ]
    },
    {
     "data": {
      "text/plain": [
       "<matplotlib.collections.PathCollection at 0x7f8c3ff54d40>"
      ]
     },
     "execution_count": 8,
     "metadata": {},
     "output_type": "execute_result"
    },
    {
     "data": {
      "image/png": "[encoded data removed]",
      "text/plain": [
       "<Figure size 640x480 with 1 Axes>"
      ]
     },
     "metadata": {},
     "output_type": "display_data"
    }
   ],
   "source": [
    "# plot distribution of message distances\n",
    "# plt.hist(np.concatenate(msg_distances), bins=100)\n",
    "\n",
    "daily_dist = msg_distances[0]\n",
    "print(\"Minimum:\", np.min(daily_dist))\n",
    "print(\"Maximum:\", np.max(daily_dist))\n",
    "\n",
    "# sort distances\n",
    "# daily_dist = np.sort(daily_dist)\n",
    "\n",
    "# plot scatter plot of message distances\n",
    "plt.scatter(range(len(daily_dist)), daily_dist, s=1)\n",
    "\n",
    "\n",
    "# plot histogram of message distances\n",
    "# plt.hist(daily_dist, bins=20)"
   ]
  },
  {
   "cell_type": "code",
   "execution_count": 9,
   "metadata": {},
   "outputs": [
    {
     "data": {
      "text/plain": [
       "[<matplotlib.lines.Line2D at 0x7f8b87ef3f20>]"
      ]
     },
     "execution_count": 9,
     "metadata": {},
     "output_type": "execute_result"
    },
    {
     "data": {
      "image/png": "[encoded data removed]",
      "text/plain": [
       "<Figure size 640x480 with 1 Axes>"
      ]
     },
     "metadata": {},
     "output_type": "display_data"
    }
   ],
   "source": [
    "# sort distances\n",
    "sorted_dist = np.sort(daily_dist)\n",
    "\n",
    "# plot line plot of sorted message distances\n",
    "plt.plot(sorted_dist)"
   ]
  },
  {
   "cell_type": "code",
   "execution_count": 10,
   "metadata": {},
   "outputs": [
    {
     "data": {
      "text/plain": [
       "[<matplotlib.lines.Line2D at 0x7f8b864bc290>]"
      ]
     },
     "execution_count": 10,
     "metadata": {},
     "output_type": "execute_result"
    },
    {
     "data": {
      "image/png": "[encoded data removed]",
      "text/plain": [
       "<Figure size 640x480 with 1 Axes>"
      ]
     },
     "metadata": {},
     "output_type": "display_data"
    }
   ],
   "source": [
    "# make a density plot of daily_dist with a log scale y-axis\n",
    "# plt.hist(daily_dist, bins=20, density=True)\n",
    "plt.semilogy(range(len(daily_dist)), daily_dist)\n",
    "# plt.semilogy(sorted_dist)"
   ]
  },
  {
   "cell_type": "code",
   "execution_count": 11,
   "metadata": {},
   "outputs": [
    {
     "data": {
      "text/plain": [
       "array([  1,   1,   1, ..., 284, 284, 284])"
      ]
     },
     "execution_count": 11,
     "metadata": {},
     "output_type": "execute_result"
    }
   ],
   "source": [
    "pct = 0.8\n",
    "pct_region = int(len(sorted_dist) * pct // 1)\n",
    "sorted_dist[0:pct_region]"
   ]
  },
  {
   "cell_type": "code",
   "execution_count": 12,
   "metadata": {},
   "outputs": [
    {
     "name": "stdout",
     "output_type": "stream",
     "text": [
      "50%: 37, block size: 888\n",
      "55%: 47, block size: 1128\n",
      "60%: 61, block size: 1464\n",
      "65%: 81, block size: 1944\n",
      "70%: 110, block size: 2640\n",
      "75%: 153, block size: 3672\n",
      "80%: 223, block size: 5352\n",
      "85%: 352, block size: 8448\n",
      "90%: 661, block size: 15864\n"
     ]
    }
   ],
   "source": [
    "# sort distances\n",
    "sorted_dist = np.sort(np.concatenate(msg_distances))\n",
    "\n",
    "# pct_range = np.linspace(0.5,0.9,5)\n",
    "pct_range = np.linspace(0.5,0.9,9)\n",
    "for pct in pct_range:\n",
    "    pct_region = int(len(sorted_dist) * pct // 1)\n",
    "    print(f\"{int(pct*100)}%: {np.max(sorted_dist[0:pct_region])}, block size: {np.max(sorted_dist[0:pct_region])*24}\")"
   ]
  },
  {
   "cell_type": "markdown",
   "metadata": {},
   "source": [
    "#### How many messages per sec? (As function of time of day)"
   ]
  },
  {
   "cell_type": "code",
   "execution_count": 13,
   "metadata": {},
   "outputs": [
    {
     "name": "stdout",
     "output_type": "stream",
     "text": [
      "Market open time: 34200000000000\n",
      "Market close time: 57600000000000\n",
      "Nanoseconds per market day:: 23400000000000\n",
      "Seconds per market day: 23400\n"
     ]
    }
   ],
   "source": [
    "nano_sec_per_sec = int(1e9)\n",
    "nano_sec_per_hour = 60 * 60 * nano_sec_per_sec\n",
    "\n",
    "market_open_time = int(9.5 * nano_sec_per_hour) # 9:30 AM\n",
    "market_close_time = int(16 * nano_sec_per_hour) # 4:00 PM\n",
    "print(\"Market open time:\", market_open_time)\n",
    "print(\"Market close time:\", market_close_time)\n",
    "\n",
    "market_hours = market_close_time - market_open_time\n",
    "print(\"Nanoseconds per market day::\", market_hours)\n",
    "\n",
    "sec_per_market_day = int(market_hours / nano_sec_per_sec)\n",
    "print(\"Seconds per market day:\", sec_per_market_day)\n",
    "\n",
    "market_sec_intervals = np.arange(market_open_time, market_close_time+nano_sec_per_sec, nano_sec_per_sec)\n",
    "assert len(market_sec_intervals) == sec_per_market_day + 1"
   ]
  },
  {
   "cell_type": "code",
   "execution_count": 14,
   "metadata": {},
   "outputs": [
    {
     "data": {
      "text/plain": [
       "array([34200000000000, 34201000000000, 34202000000000, ...,\n",
       "       57598000000000, 57599000000000, 57600000000000])"
      ]
     },
     "execution_count": 14,
     "metadata": {},
     "output_type": "execute_result"
    }
   ],
   "source": [
    "np.arange(market_open_time, market_close_time+nano_sec_per_sec, nano_sec_per_sec)"
   ]
  },
  {
   "cell_type": "code",
   "execution_count": 16,
   "metadata": {},
   "outputs": [
    {
     "data": {
      "text/plain": [
       "653"
      ]
     },
     "execution_count": 16,
     "metadata": {},
     "output_type": "execute_result"
    }
   ],
   "source": [
    "df = messages_list[0]\n",
    "\n",
    "# locate rows in df that are within the market_sec_intervals bucket\n",
    "len(df.loc[df['time'].between(market_sec_intervals[0], market_sec_intervals[1])])"
   ]
  },
  {
   "cell_type": "code",
   "execution_count": 83,
   "metadata": {},
   "outputs": [
    {
     "name": "stdout",
     "output_type": "stream",
     "text": [
      "Date: 01302019, Symbol: AAPL\n",
      "5 smallest msg intervals: [0 0 0 0 0]\n",
      "5 biggest msg intervals: [ 2681  3244  4597  9473 16628]\n",
      "Min messages per second: 0\n",
      "Max messages per second: 16628\n",
      "Date: 01302020, Symbol: AAPL\n",
      "5 smallest msg intervals: [0 0 0 0 1]\n",
      "5 biggest msg intervals: [2296 3054 3706 4429 7188]\n",
      "Min messages per second: 0\n",
      "Max messages per second: 7188\n",
      "Date: 03272019, Symbol: AAPL\n",
      "5 smallest msg intervals: [0 0 0 0 1]\n",
      "5 biggest msg intervals: [2125 3649 4630 8341 8920]\n",
      "Min messages per second: 0\n",
      "Max messages per second: 8920\n",
      "Date: 07302019, Symbol: AAPL\n",
      "5 smallest msg intervals: [0 0 0 0 0]\n",
      "5 biggest msg intervals: [2136 2642 2727 6581 9218]\n",
      "Min messages per second: 0\n",
      "Max messages per second: 9218\n",
      "Date: 08302019, Symbol: AAPL\n",
      "5 smallest msg intervals: [0 0 0 0 0]\n",
      "5 biggest msg intervals: [2888 3116 5647 7207 9757]\n",
      "Min messages per second: 0\n",
      "Max messages per second: 9757\n",
      "Date: 10302019, Symbol: AAPL\n",
      "5 smallest msg intervals: [0 0 0 0 0]\n",
      "5 biggest msg intervals: [2053 2483 3342 4037 7884]\n",
      "Min messages per second: 0\n",
      "Max messages per second: 7884\n",
      "Date: 12282018, Symbol: AAPL\n",
      "5 smallest msg intervals: [0 0 0 0 0]\n",
      "5 biggest msg intervals: [ 1693  2377  3178  6011 11983]\n",
      "Min messages per second: 0\n",
      "Max messages per second: 11983\n",
      "Date: 12302019, Symbol: AAPL\n",
      "5 smallest msg intervals: [0 0 0 0 0]\n",
      "5 biggest msg intervals: [2033 2444 2570 4314 6223]\n",
      "Min messages per second: 0\n",
      "Max messages per second: 6223\n"
     ]
    }
   ],
   "source": [
    "msg_interval_list = []\n",
    "for i in range(len(messages_list)):\n",
    "    df = messages_list[i]\n",
    "    date, sym = data_id_list[i]\n",
    "    print(f\"Date: {date}, Symbol: {sym}\")\n",
    "\n",
    "    msg_per_interval = []\n",
    "    for i in range(len(market_sec_intervals)-1):\n",
    "        num_msgs_in_bucket = len(df.loc[df['time'].between(market_sec_intervals[i], market_sec_intervals[i+1])])\n",
    "        msg_per_interval.append(num_msgs_in_bucket)\n",
    "\n",
    "    assert len(msg_per_interval) == sec_per_market_day\n",
    "\n",
    "    # plot bar graph of messages per second\n",
    "    sorted_intervals = np.sort(msg_per_interval)\n",
    "    print(\"5 smallest msg intervals:\", sorted_intervals[:5])\n",
    "    print(\"5 biggest msg intervals:\", sorted_intervals[-5:])\n",
    "    print(\"Min messages per second:\", np.min(msg_per_interval))\n",
    "    print(\"Max messages per second:\", np.max(msg_per_interval))\n",
    "    # plt.bar(range(len(msg_per_interval)), msg_per_interval)\n",
    "    time_axis = range(int(market_open_time / nano_sec_per_sec), int(market_close_time / nano_sec_per_sec))\n",
    "    plt.bar(time_axis, msg_per_interval)\n",
    "\n",
    "    plt.xlabel(\"Time\")\n",
    "    plt.ylabel(\"Number of Messages\")\n",
    "\n",
    "    time_mesh = np.arange(\n",
    "        int(str_to_ns(\"09:30:00\") / nano_sec_per_sec),\n",
    "        int(str_to_ns(\"16:00:00\") / nano_sec_per_sec),\n",
    "        60*30 # last number is minutes increment (every 30 minutes in this case)\n",
    "    )\n",
    "    _=plt.xticks(time_mesh, [ pd.Timestamp(time, unit=\"s\").strftime(\"%Y-%m-%d %H:%M:%S\").split(\" \")[1] for time in time_mesh], rotation=60 )\n",
    "\n",
    "    # save figure and append to list\n",
    "    plt.savefig(f'{parent_folder_path}/fig/{date}_{sym}_msg_buckets.png', bbox_inches='tight')\n",
    "    plt.close()\n",
    "    msg_interval_list.append(msg_per_interval)"
   ]
  },
  {
   "cell_type": "code",
   "execution_count": 87,
   "metadata": {},
   "outputs": [
    {
     "name": "stdout",
     "output_type": "stream",
     "text": [
      "Median message/sec over trading day: 51\n",
      "Median message/sec over trading day: 67\n",
      "Median message/sec over trading day: 68\n",
      "Median message/sec over trading day: 37\n",
      "Median message/sec over trading day: 35\n",
      "Median message/sec over trading day: 21\n",
      "Median message/sec over trading day: 44\n",
      "Median message/sec over trading day: 45\n",
      "Median message/sec over first 30 min of trading day: 121\n",
      "Median message/sec over first 30 min of trading day: 114\n",
      "Median message/sec over first 30 min of trading day: 121\n",
      "Median message/sec over first 30 min of trading day: 70\n",
      "Median message/sec over first 30 min of trading day: 41\n",
      "Median message/sec over first 30 min of trading day: 39\n",
      "Median message/sec over first 30 min of trading day: 103\n",
      "Median message/sec over first 30 min of trading day: 120\n"
     ]
    }
   ],
   "source": [
    "msg_interval_list\n",
    "\n",
    "for msg_interval in msg_interval_list:\n",
    "    print(\"Median message/sec over trading day:\", int(np.median(msg_interval)))\n",
    "\n",
    "# median message/sec over first 30 min of trading day\n",
    "for msg_interval in msg_interval_list:\n",
    "    print(\"Median message/sec over first 30 min of trading day:\", int(np.median(msg_interval[:(30*60)])))"
   ]
  },
  {
   "cell_type": "code",
   "execution_count": null,
   "metadata": {},
   "outputs": [],
   "source": []
  }
 ],
 "metadata": {
  "kernelspec": {
   "display_name": "MarketSimT",
   "language": "python",
   "name": "python3"
  },
  "language_info": {
   "codemirror_mode": {
    "name": "ipython",
    "version": 3
   },
   "file_extension": ".py",
   "mimetype": "text/x-python",
   "name": "python",
   "nbconvert_exporter": "python",
   "pygments_lexer": "ipython3",
   "version": "3.12.1"
  }
 },
 "nbformat": 4,
 "nbformat_minor": 2
}
